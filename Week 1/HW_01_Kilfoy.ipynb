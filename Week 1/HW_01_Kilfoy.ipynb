{
 "cells": [
  {
   "cell_type": "markdown",
   "id": "f3bb58ac",
   "metadata": {},
   "source": [
    "# DSCI 503 - Homework 01\n",
    "### Sean Kilfoy"
   ]
  },
  {
   "cell_type": "code",
   "execution_count": 1,
   "id": "dbb094f6",
   "metadata": {},
   "outputs": [
    {
     "name": "stdout",
     "output_type": "stream",
     "text": [
      "Sum:\t\t\t59\n",
      "Product:\t\t42636\n",
      "Arithmetic Mean:\t14.75\n",
      "Geometric Mean:\t\t14.37\n"
     ]
    }
   ],
   "source": [
    "# Problem 1: Arithmetic and Geometric Means\n",
    "x0 = 11\n",
    "x1 = 12\n",
    "x2 = 17\n",
    "x3 = 19\n",
    "total = x0 + x1 + x2 + x3\n",
    "product = x0 * x1 * x2 * x3\n",
    "arith_mean = total/4\n",
    "geom_mean = product ** (1/4)\n",
    "print(\"Sum:\\t\\t\\t\", total, sep=\"\")\n",
    "print(\"Product:\\t\\t\", product, sep=\"\")\n",
    "print(\"Arithmetic Mean:\\t\", round(arith_mean, 2), sep=\"\")\n",
    "print(\"Geometric Mean:\\t\\t\", round(geom_mean, 2), sep=\"\")"
   ]
  },
  {
   "cell_type": "code",
   "execution_count": 2,
   "id": "40367785",
   "metadata": {},
   "outputs": [
    {
     "name": "stdout",
     "output_type": "stream",
     "text": [
      "2 Side Salads:\t $7.90\n",
      "2 Hamburgers:\t$17.90\n",
      "2 Diet Sodas:\t $5.00\n",
      "----------------------\n",
      "Subtotal:\t$30.80\n",
      "Tax (4.75%):\t $1.46\n",
      "Tip (15%):\t $4.62\n",
      "----------------------\n",
      "Total Charge:\t$36.88\n"
     ]
    }
   ],
   "source": [
    "# Problem 2: Calculating a Bill\n",
    "salad_cost = 3.95\n",
    "hamburger_cost = 8.95\n",
    "soda_cost = 2.50\n",
    "total_salads = 2\n",
    "total_hamburgers = 2\n",
    "total_sodas = 2\n",
    "ss_cost = salad_cost * total_salads\n",
    "hb_cost = hamburger_cost * total_hamburgers\n",
    "ds_cost = soda_cost * total_sodas\n",
    "subtotal = ss_cost + hb_cost + ds_cost\n",
    "tax_percentage = 0.0475\n",
    "tax = round(tax_percentage * subtotal, 2)\n",
    "tip_percentage = .15\n",
    "tip = round(tip_percentage * subtotal, 2)\n",
    "total_charge = subtotal + tax + tip\n",
    "print(total_salads, \" Side Salads:\\t \", \"$\", \"{0:.2f}\".format(ss_cost), sep=\"\")\n",
    "print(total_hamburgers, \" Hamburgers:\\t\", \"$\", \"{0:.2f}\".format(hb_cost), sep=\"\")\n",
    "print(total_sodas, \" Diet Sodas:\\t \", \"$\", \"{0:.2f}\".format(ds_cost), sep=\"\")\n",
    "print(\"----------------------\")\n",
    "print(\"Subtotal:\\t\", \"$\", \"{0:.2f}\".format(subtotal), sep=\"\")\n",
    "print(\"Tax (4.75%):\\t \", \"$\", \"{0:.2f}\".format(tax), sep=\"\")\n",
    "print(\"Tip (15%):\\t \", \"$\", \"{0:.2f}\".format(tip), sep=\"\")\n",
    "print(\"----------------------\")\n",
    "print(\"Total Charge:\\t\", \"$\", \"{0:.2f}\".format(total_charge), sep=\"\")"
   ]
  },
  {
   "cell_type": "code",
   "execution_count": 3,
   "id": "c458df52",
   "metadata": {},
   "outputs": [
    {
     "name": "stdout",
     "output_type": "stream",
     "text": [
      "The volume of a sphere with radius 4.6 is equal to 407.720\n",
      "The volume of a sphere with radius 7.2 is equal to 1563.456\n",
      "The volume of a sphere with radius 9.7 is equal to 3822.992\n"
     ]
    }
   ],
   "source": [
    "# Problem 3: Volume of a Sphere\n",
    "pi = 3.14159\n",
    "r1 = 4.6\n",
    "r2 = 7.2\n",
    "r3 = 9.7\n",
    "v1 = (4/3)*pi*r1**3\n",
    "v2 = (4/3)*pi*r2**3\n",
    "v3 = (4/3)*pi*r3**3\n",
    "\n",
    "print(\"The volume of a sphere with radius \", r1, \" is equal to \", \"{0:.3f}\".format(v1), sep=\"\")\n",
    "print(\"The volume of a sphere with radius \", r2, \" is equal to \", round(v2,3), sep=\"\")\n",
    "print(\"The volume of a sphere with radius \", r3, \" is equal to \", round(v3,3), sep=\"\")\n"
   ]
  },
  {
   "cell_type": "code",
   "execution_count": 4,
   "id": "c66f7418",
   "metadata": {},
   "outputs": [
    {
     "name": "stdout",
     "output_type": "stream",
     "text": [
      "Amount repaid: $225.75\n"
     ]
    }
   ],
   "source": [
    "# Problem 4: Simple Interest\n",
    "P = 210\n",
    "i = 0.09\n",
    "t = (10/12)\n",
    "A = P*(1+i*t)\n",
    "print(\"Amount repaid: $\", A, sep=\"\")"
   ]
  },
  {
   "cell_type": "code",
   "execution_count": 5,
   "id": "d960dbe4",
   "metadata": {},
   "outputs": [
    {
     "name": "stdout",
     "output_type": "stream",
     "text": [
      "Amount repaid: $463.05\n"
     ]
    }
   ],
   "source": [
    "# Problem 5: Compound Interest\n",
    "P = 400\n",
    "i = 0.05\n",
    "t = 3\n",
    "A = P*(1+i)**t\n",
    "print(\"Amount repaid: $\", round(A,2), sep=\"\")"
   ]
  },
  {
   "cell_type": "code",
   "execution_count": 6,
   "id": "0edc71c9",
   "metadata": {},
   "outputs": [
    {
     "name": "stdout",
     "output_type": "stream",
     "text": [
      "Balance after 18 years: $51290.83\n"
     ]
    }
   ],
   "source": [
    "# Problem 6: Annuity\n",
    "PMT = 2000\n",
    "i = 0.04\n",
    "n = 18\n",
    "A = PMT*((((1+i)**n)-1)/(i))\n",
    "print(\"Balance after \", n, \" years: $\", round(A,2), sep=\"\")"
   ]
  },
  {
   "cell_type": "code",
   "execution_count": 7,
   "id": "b68fd6e5",
   "metadata": {},
   "outputs": [
    {
     "name": "stdout",
     "output_type": "stream",
     "text": [
      "Probability that both people are late:\t\t0.18\n",
      "Probability that at least one person is late:\t0.72\n"
     ]
    }
   ],
   "source": [
    "# Problem 7: Probability\n",
    "prob_A = 0.6\n",
    "prob_B = 0.3\n",
    "prob_A_and_B = prob_A * prob_B\n",
    "prob_A_or_B = prob_A + prob_B - prob_A_and_B\n",
    "print(\"Probability that both people are late:\\t\\t\", prob_A_and_B, sep=\"\")\n",
    "print(\"Probability that at least one person is late:\\t\", prob_A_or_B, sep=\"\")"
   ]
  },
  {
   "cell_type": "code",
   "execution_count": 8,
   "id": "9c2bfdcf",
   "metadata": {},
   "outputs": [
    {
     "name": "stdout",
     "output_type": "stream",
     "text": [
      "First name:\tSean\n",
      "Last name:\tKilfoy\n",
      "Student ID:\t123456789\n"
     ]
    }
   ],
   "source": [
    "# Problem 8: Constructing an Output Message\n",
    "first = 'Sean'\n",
    "last = 'Kilfoy'\n",
    "sid = '123456789'\n",
    "msg = \"First name:\\t\" + first + \"\\nLast name:\\t\" + last + \"\\nStudent ID:\\t\" + sid\n",
    "print(msg)"
   ]
  }
 ],
 "metadata": {
  "kernelspec": {
   "display_name": "Python 3 (ipykernel)",
   "language": "python",
   "name": "python3"
  },
  "language_info": {
   "codemirror_mode": {
    "name": "ipython",
    "version": 3
   },
   "file_extension": ".py",
   "mimetype": "text/x-python",
   "name": "python",
   "nbconvert_exporter": "python",
   "pygments_lexer": "ipython3",
   "version": "3.9.13"
  }
 },
 "nbformat": 4,
 "nbformat_minor": 5
}
