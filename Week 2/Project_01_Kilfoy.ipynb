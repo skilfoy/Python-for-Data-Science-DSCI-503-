{
 "cells": [
  {
   "cell_type": "markdown",
   "id": "389bb06d",
   "metadata": {},
   "source": [
    "# DSCI 503 - Project 01\n",
    "\n",
    "### Sean Kilfoy"
   ]
  },
  {
   "cell_type": "markdown",
   "id": "41baf4f4",
   "metadata": {},
   "source": [
    "# Introduction\n",
    "\n",
    "We will be working with a dataset containing socioeconomic data for 184 countries from 1800 to 2018."
   ]
  },
  {
   "cell_type": "code",
   "execution_count": 1,
   "id": "a61b6406",
   "metadata": {},
   "outputs": [
    {
     "data": {
      "text/html": [
       "<div>\n",
       "<style scoped>\n",
       "    .dataframe tbody tr th:only-of-type {\n",
       "        vertical-align: middle;\n",
       "    }\n",
       "\n",
       "    .dataframe tbody tr th {\n",
       "        vertical-align: top;\n",
       "    }\n",
       "\n",
       "    .dataframe thead th {\n",
       "        text-align: right;\n",
       "    }\n",
       "</style>\n",
       "<table border=\"1\" class=\"dataframe\">\n",
       "  <thead>\n",
       "    <tr style=\"text-align: right;\">\n",
       "      <th></th>\n",
       "      <th>country</th>\n",
       "      <th>year</th>\n",
       "      <th>continent</th>\n",
       "      <th>population</th>\n",
       "      <th>life_exp</th>\n",
       "      <th>gdp_per_cap</th>\n",
       "      <th>gini</th>\n",
       "    </tr>\n",
       "  </thead>\n",
       "  <tbody>\n",
       "    <tr>\n",
       "      <th>0</th>\n",
       "      <td>Afghanistan</td>\n",
       "      <td>1800</td>\n",
       "      <td>asia</td>\n",
       "      <td>3280000</td>\n",
       "      <td>28.2</td>\n",
       "      <td>603</td>\n",
       "      <td>30.5</td>\n",
       "    </tr>\n",
       "    <tr>\n",
       "      <th>1</th>\n",
       "      <td>Albania</td>\n",
       "      <td>1800</td>\n",
       "      <td>europe</td>\n",
       "      <td>410000</td>\n",
       "      <td>35.4</td>\n",
       "      <td>667</td>\n",
       "      <td>38.9</td>\n",
       "    </tr>\n",
       "    <tr>\n",
       "      <th>2</th>\n",
       "      <td>Algeria</td>\n",
       "      <td>1800</td>\n",
       "      <td>africa</td>\n",
       "      <td>2500000</td>\n",
       "      <td>28.8</td>\n",
       "      <td>715</td>\n",
       "      <td>56.2</td>\n",
       "    </tr>\n",
       "    <tr>\n",
       "      <th>3</th>\n",
       "      <td>Angola</td>\n",
       "      <td>1800</td>\n",
       "      <td>africa</td>\n",
       "      <td>1570000</td>\n",
       "      <td>27.0</td>\n",
       "      <td>618</td>\n",
       "      <td>57.2</td>\n",
       "    </tr>\n",
       "    <tr>\n",
       "      <th>4</th>\n",
       "      <td>Antigua and Barbuda</td>\n",
       "      <td>1800</td>\n",
       "      <td>americas</td>\n",
       "      <td>37000</td>\n",
       "      <td>33.5</td>\n",
       "      <td>757</td>\n",
       "      <td>40.0</td>\n",
       "    </tr>\n",
       "    <tr>\n",
       "      <th>5</th>\n",
       "      <td>Argentina</td>\n",
       "      <td>1800</td>\n",
       "      <td>americas</td>\n",
       "      <td>534000</td>\n",
       "      <td>33.2</td>\n",
       "      <td>1510</td>\n",
       "      <td>47.7</td>\n",
       "    </tr>\n",
       "    <tr>\n",
       "      <th>6</th>\n",
       "      <td>Armenia</td>\n",
       "      <td>1800</td>\n",
       "      <td>europe</td>\n",
       "      <td>413000</td>\n",
       "      <td>34.0</td>\n",
       "      <td>514</td>\n",
       "      <td>31.5</td>\n",
       "    </tr>\n",
       "    <tr>\n",
       "      <th>7</th>\n",
       "      <td>Australia</td>\n",
       "      <td>1800</td>\n",
       "      <td>asia</td>\n",
       "      <td>351000</td>\n",
       "      <td>34.0</td>\n",
       "      <td>814</td>\n",
       "      <td>38.7</td>\n",
       "    </tr>\n",
       "    <tr>\n",
       "      <th>8</th>\n",
       "      <td>Austria</td>\n",
       "      <td>1800</td>\n",
       "      <td>europe</td>\n",
       "      <td>3210000</td>\n",
       "      <td>34.4</td>\n",
       "      <td>1850</td>\n",
       "      <td>33.4</td>\n",
       "    </tr>\n",
       "    <tr>\n",
       "      <th>9</th>\n",
       "      <td>Azerbaijan</td>\n",
       "      <td>1800</td>\n",
       "      <td>europe</td>\n",
       "      <td>880000</td>\n",
       "      <td>29.2</td>\n",
       "      <td>775</td>\n",
       "      <td>70.5</td>\n",
       "    </tr>\n",
       "  </tbody>\n",
       "</table>\n",
       "</div>"
      ],
      "text/plain": [
       "               country  year continent  population  life_exp  gdp_per_cap  \\\n",
       "0          Afghanistan  1800      asia     3280000      28.2          603   \n",
       "1              Albania  1800    europe      410000      35.4          667   \n",
       "2              Algeria  1800    africa     2500000      28.8          715   \n",
       "3               Angola  1800    africa     1570000      27.0          618   \n",
       "4  Antigua and Barbuda  1800  americas       37000      33.5          757   \n",
       "5            Argentina  1800  americas      534000      33.2         1510   \n",
       "6              Armenia  1800    europe      413000      34.0          514   \n",
       "7            Australia  1800      asia      351000      34.0          814   \n",
       "8              Austria  1800    europe     3210000      34.4         1850   \n",
       "9           Azerbaijan  1800    europe      880000      29.2          775   \n",
       "\n",
       "   gini  \n",
       "0  30.5  \n",
       "1  38.9  \n",
       "2  56.2  \n",
       "3  57.2  \n",
       "4  40.0  \n",
       "5  47.7  \n",
       "6  31.5  \n",
       "7  38.7  \n",
       "8  33.4  \n",
       "9  70.5  "
      ]
     },
     "execution_count": 1,
     "metadata": {},
     "output_type": "execute_result"
    }
   ],
   "source": [
    "import pandas as pd\n",
    "df = pd.read_csv('gapminder_data.txt', sep='\\t')\n",
    "df.head(10)"
   ]
  },
  {
   "cell_type": "code",
   "execution_count": 2,
   "id": "2cacc2c9",
   "metadata": {},
   "outputs": [],
   "source": [
    "country = df.country.to_list()\n",
    "continent = df.continent.to_list()\n",
    "year = df.year.to_list()\n",
    "population = df.population.to_list()\n",
    "life_exp = df.life_exp.to_list()\n",
    "pcgdp = df.gdp_per_cap.to_list()\n",
    "gini = df.gini.to_list()"
   ]
  },
  {
   "cell_type": "markdown",
   "id": "91920f63",
   "metadata": {},
   "source": [
    "# Part 1: Displaying Past 20 Years of US Data\n",
    "\n",
    "We will display the last 20 years of socioeconomic data for the US."
   ]
  },
  {
   "cell_type": "code",
   "execution_count": 3,
   "id": "a57d83bb",
   "metadata": {},
   "outputs": [
    {
     "name": "stdout",
     "output_type": "stream",
     "text": [
      "Year\tCountry\t\tPopulation\tLExp\tpcGDP\tGini\n",
      "------------------------------------------------------------\n",
      "1999\tUnited States\t279000000\t76.8\t44700\t40.5\n",
      "2000\tUnited States\t282000000\t76.9\t46000\t40.5\n",
      "2001\tUnited States\t285000000\t77.0\t46000\t40.5\n",
      "2002\tUnited States\t288000000\t77.1\t46400\t40.5\n",
      "2003\tUnited States\t290000000\t77.3\t47300\t40.5\n",
      "2004\tUnited States\t293000000\t77.5\t48600\t40.6\n",
      "2005\tUnited States\t295000000\t77.7\t49800\t40.7\n",
      "2006\tUnited States\t298000000\t77.9\t50600\t40.8\n",
      "2007\tUnited States\t301000000\t78.1\t51000\t40.8\n",
      "2008\tUnited States\t303000000\t78.3\t50400\t40.8\n",
      "2009\tUnited States\t306000000\t78.6\t48600\t40.7\n",
      "2010\tUnited States\t309000000\t78.7\t49400\t40.7\n",
      "2011\tUnited States\t311000000\t78.8\t49800\t40.7\n",
      "2012\tUnited States\t313000000\t78.9\t50500\t40.8\n",
      "2013\tUnited States\t316000000\t78.9\t51000\t41.0\n",
      "2014\tUnited States\t318000000\t78.9\t51800\t41.2\n",
      "2015\tUnited States\t320000000\t78.8\t52800\t41.3\n",
      "2016\tUnited States\t322000000\t78.8\t53300\t41.4\n",
      "2017\tUnited States\t324000000\t79.0\t54200\t41.5\n",
      "2018\tUnited States\t327000000\t79.1\t54900\t41.5\n"
     ]
    }
   ],
   "source": [
    "print(\"Year\\tCountry\\t\\tPopulation\\tLExp\\tpcGDP\\tGini\")\n",
    "print(\"------------------------------------------------------------\")\n",
    "for i in range(len(year)):\n",
    "    if year[i] >= 1999 and country[i] == \"United States\":\n",
    "        print(year[i], country[i], population[i], life_exp[i], pcgdp[i], gini[i], sep = \"\\t\")"
   ]
  },
  {
   "cell_type": "markdown",
   "id": "54c5c3f9",
   "metadata": {},
   "source": [
    "# Part 2: Selecting the 2018 Data\n",
    "\n",
    "We will select only the data for the year 2018 for further analysis. We will create new lists with 2018 data for each of the 184 countries."
   ]
  },
  {
   "cell_type": "code",
   "execution_count": 4,
   "id": "f81d0135",
   "metadata": {},
   "outputs": [],
   "source": [
    "country_2018 = []\n",
    "population_2018 = []\n",
    "continent_2018 = []\n",
    "life_exp_2018 = []\n",
    "pcgdp_2018 = []\n",
    "gini_2018 = []\n",
    "\n",
    "for i in range(len(year)):\n",
    "    if year[i] == 2018:\n",
    "        country_2018.append(country[i])\n",
    "        population_2018.append(population[i])\n",
    "        continent_2018.append(continent[i])\n",
    "        life_exp_2018.append(life_exp[i])\n",
    "        pcgdp_2018.append(pcgdp[i])\n",
    "        gini_2018.append(gini[i])"
   ]
  },
  {
   "cell_type": "code",
   "execution_count": 5,
   "id": "ea9a2d13",
   "metadata": {
    "scrolled": true
   },
   "outputs": [
    {
     "name": "stdout",
     "output_type": "stream",
     "text": [
      "The global population in 2018 was 7595200200.\n"
     ]
    }
   ],
   "source": [
    "global_population_2018 = sum(population_2018)\n",
    "print('The global population in 2018 was ', global_population_2018, '.', sep='')"
   ]
  },
  {
   "cell_type": "markdown",
   "id": "3e4bd12a",
   "metadata": {},
   "source": [
    "# Part 3: Identifying Countries with the Largest and Smallest Populations\n",
    "\n",
    "Now, we will display lists of countries with the largest and smallest populations in 2018."
   ]
  },
  {
   "cell_type": "code",
   "execution_count": 6,
   "id": "dc30140f",
   "metadata": {},
   "outputs": [
    {
     "name": "stdout",
     "output_type": "stream",
     "text": [
      "Countries with the 10 Largest Populations in 2018\n",
      "------------------------------------------------------\n",
      "The population of China in 2018 was 1420000000.\n",
      "The population of India in 2018 was 1350000000.\n",
      "The population of United States in 2018 was 327000000.\n",
      "The population of Indonesia in 2018 was 267000000.\n",
      "The population of Brazil in 2018 was 211000000.\n",
      "The population of Pakistan in 2018 was 201000000.\n",
      "The population of Nigeria in 2018 was 196000000.\n",
      "The population of Bangladesh in 2018 was 166000000.\n",
      "The population of Russia in 2018 was 144000000.\n",
      "The population of Mexico in 2018 was 131000000.\n"
     ]
    }
   ],
   "source": [
    "sorted_population_2018 = sorted(population_2018, reverse=True)\n",
    "tenth_largest_pop = sorted_population_2018[9]\n",
    "\n",
    "print(\"Countries with the 10 Largest Populations in 2018\")\n",
    "print(\"------------------------------------------------------\")\n",
    "\n",
    "for i in range(0, len(population_2018)):\n",
    "    pop = sorted_population_2018[i]\n",
    "    index = population_2018.index(pop)\n",
    "    if pop >= tenth_largest_pop:\n",
    "        print('The population of ', country_2018[index], ' in 2018 was ', pop, '.', sep='')"
   ]
  },
  {
   "cell_type": "code",
   "execution_count": 7,
   "id": "3a5984f7",
   "metadata": {},
   "outputs": [
    {
     "name": "stdout",
     "output_type": "stream",
     "text": [
      "Countries with 10 Smallest Populations in 2018\n",
      "------------------------------------------------------\n",
      "The population of Sao Tome and Principe in 2018 was 209000.\n",
      "The population of Samoa in 2018 was 198000.\n",
      "The population of St. Lucia in 2018 was 180000.\n",
      "The population of Kiribati in 2018 was 118000.\n",
      "The population of St. Vincent and the Grenadines in 2018 was 110000.\n",
      "The population of Tonga in 2018 was 109000.\n",
      "The population of Grenada in 2018 was 108000.\n",
      "The population of Micronesia, Fed. Sts. in 2018 was 106000.\n",
      "The population of Antigua and Barbuda in 2018 was 103000.\n",
      "The population of Seychelles in 2018 was 95200.\n"
     ]
    }
   ],
   "source": [
    "tenth_smallest_pop = sorted_population_2018[-10]\n",
    "\n",
    "print(\"Countries with 10 Smallest Populations in 2018\")\n",
    "print(\"------------------------------------------------------\")\n",
    "\n",
    "for i in range(0, len(population_2018)):\n",
    "    pop = sorted_population_2018[i]\n",
    "    index = population_2018.index(pop)\n",
    "    if pop <= tenth_smallest_pop:\n",
    "        print('The population of ', country_2018[index], ' in 2018 was ', pop, '.', sep='')"
   ]
  },
  {
   "cell_type": "markdown",
   "id": "132a530a",
   "metadata": {},
   "source": [
    "# Part 4: Identifying Countries with Highest and Lowest Life Expectancies\n",
    "\n",
    "We will list the countries with the highest and lowest life expectancies."
   ]
  },
  {
   "cell_type": "code",
   "execution_count": 8,
   "id": "de8aed9e",
   "metadata": {},
   "outputs": [
    {
     "name": "stdout",
     "output_type": "stream",
     "text": [
      "Countries with the 10 Highest Life Expectancies in 2018\n",
      "------------------------------------------------------\n",
      "The life expectancy of people in Australia in 2018 was 82.9.\n",
      "The life expectancy of people in France in 2018 was 82.6.\n",
      "The life expectancy of people in Iceland in 2018 was 82.6.\n",
      "The life expectancy of people in Israel in 2018 was 82.4.\n",
      "The life expectancy of people in Italy in 2018 was 82.6.\n",
      "The life expectancy of people in Japan in 2018 was 84.2.\n",
      "The life expectancy of people in Luxembourg in 2018 was 82.4.\n",
      "The life expectancy of people in Norway in 2018 was 82.4.\n",
      "The life expectancy of people in Singapore in 2018 was 84.0.\n",
      "The life expectancy of people in Spain in 2018 was 83.2.\n",
      "The life expectancy of people in Sweden in 2018 was 82.4.\n",
      "The life expectancy of people in Switzerland in 2018 was 83.5.\n"
     ]
    }
   ],
   "source": [
    "sorted_life_exp_2018 = sorted(life_exp_2018, reverse=True)\n",
    "highest_life_exp = sorted_life_exp_2018[9]\n",
    "\n",
    "print(\"Countries with the 10 Highest Life Expectancies in 2018\")\n",
    "print(\"------------------------------------------------------\")\n",
    "\n",
    "for i in range(0, len(life_exp_2018)):\n",
    "    if life_exp_2018[i] >= highest_life_exp:\n",
    "        print('The life expectancy of people in ', country_2018[i], ' in 2018 was ', life_exp_2018[i], '.', sep='')\n"
   ]
  },
  {
   "cell_type": "code",
   "execution_count": 9,
   "id": "3a1b962c",
   "metadata": {},
   "outputs": [
    {
     "name": "stdout",
     "output_type": "stream",
     "text": [
      "Countries with Lowest Life Expectancy in 2018\n",
      "------------------------------------------------------\n",
      "The life expectancy of Afghanistan in 2018 was 58.7.\n",
      "The life expectancy of Central African Republic in 2018 was 51.6.\n",
      "The life expectancy of Chad in 2018 was 60.5.\n",
      "The life expectancy of Guinea-Bissau in 2018 was 59.7.\n",
      "The life expectancy of Lesotho in 2018 was 51.1.\n",
      "The life expectancy of Sierra Leone in 2018 was 60.0.\n",
      "The life expectancy of Somalia in 2018 was 58.0.\n",
      "The life expectancy of Swaziland in 2018 was 58.6.\n",
      "The life expectancy of Zambia in 2018 was 59.5.\n",
      "The life expectancy of Zimbabwe in 2018 was 60.2.\n"
     ]
    }
   ],
   "source": [
    "lowest_life_exp = sorted_life_exp_2018[-10]\n",
    "\n",
    "print(\"Countries with Lowest Life Expectancy in 2018\")\n",
    "print(\"------------------------------------------------------\")\n",
    "\n",
    "for i in range(0, len(life_exp_2018)):\n",
    "    if life_exp_2018[i] <= lowest_life_exp:\n",
    "        print('The life expectancy of ', country_2018[i], ' in 2018 was ', life_exp_2018[i], '.', sep='')\n"
   ]
  },
  {
   "cell_type": "markdown",
   "id": "53ce93c3",
   "metadata": {},
   "source": [
    "# Part 5: Calculating GDP by Country\n",
    "\n",
    "We will now calculate and list the GDP of each country in 2018 by multiplying each country's population by its per capita GDP. We will also calculate the total global GDP for 2018."
   ]
  },
  {
   "cell_type": "code",
   "execution_count": 10,
   "id": "0301c5b7",
   "metadata": {},
   "outputs": [
    {
     "name": "stdout",
     "output_type": "stream",
     "text": [
      "The total global GDP in 2018 was $118225647770000.\n"
     ]
    }
   ],
   "source": [
    "gdp_2018 = []\n",
    "for i in range(0, len(population_2018)):\n",
    "    gdp_2018.append(pcgdp_2018[i] * population_2018[i])\n",
    "global_gdp_2018 = sum(gdp_2018)\n",
    "print('The total global GDP in 2018 was $', global_gdp_2018, '.', sep='')\n"
   ]
  },
  {
   "cell_type": "code",
   "execution_count": 11,
   "id": "1f6d6270",
   "metadata": {},
   "outputs": [
    {
     "name": "stdout",
     "output_type": "stream",
     "text": [
      "The country with the highest GDP in 2018 was China with a GDP of $22720000000000\n",
      "The country with the lowest GDP in 2018 was Kiribati with a GDP of $223020000\n"
     ]
    }
   ],
   "source": [
    "highest_gdp_index = gdp_2018.index(max(gdp_2018))\n",
    "lowest_gdp_index = gdp_2018.index(min(gdp_2018))\n",
    "\n",
    "print('The country with the highest GDP in 2018 was ', country_2018[highest_gdp_index], ' with a GDP of $', max(gdp_2018), sep='')\n",
    "print('The country with the lowest GDP in 2018 was ', country_2018[lowest_gdp_index], ' with a GDP of $', min(gdp_2018), sep='')\n"
   ]
  },
  {
   "cell_type": "markdown",
   "id": "edafd2df",
   "metadata": {},
   "source": [
    "# Part 6: Grouping by Continent\n",
    "\n",
    "In this final section, we will calculate the total population, per capita GDP, and life expectancy for each continent represented in our dataset for 2018."
   ]
  },
  {
   "cell_type": "code",
   "execution_count": 12,
   "id": "acab3364",
   "metadata": {},
   "outputs": [
    {
     "name": "stdout",
     "output_type": "stream",
     "text": [
      "Continent    Population    pcGDP   Life Exp\n",
      "-------------------------------------------\n",
      "Africa       1287150200     4700       65.9\n",
      "Americas     1010978000    28708       77.5\n",
      "Asia         4455113000    12705       73.2\n",
      "Europe        841959000    31534       78.4\n"
     ]
    }
   ],
   "source": [
    "continent_names = [\"africa\", \"americas\", \"asia\", \"europe\"]\n",
    "\n",
    "pcgdp_2018_by_continent = []\n",
    "pop_2018_by_continent = []\n",
    "life_exp_2018_by_continent = []\n",
    "\n",
    "for continent in continent_names:\n",
    "    temp_life_exp = 0\n",
    "    temp_pop = 0\n",
    "    temp_gdp = 0\n",
    "    for i in range(0, len(country_2018)):\n",
    "        if continent_2018[i] == continent:\n",
    "            temp_life_exp += life_exp_2018[i] * population_2018[i]\n",
    "            temp_pop += population_2018[i]\n",
    "            temp_gdp += pcgdp_2018[i] * population_2018[i]\n",
    "    temp_life_exp = temp_life_exp/temp_pop\n",
    "    temp_life_exp = round(temp_life_exp,1)\n",
    "    temp_gdp = temp_gdp/temp_pop\n",
    "    temp_gdp = round(temp_gdp)\n",
    "    pcgdp_2018_by_continent.append(temp_gdp)\n",
    "    pop_2018_by_continent.append(temp_pop)\n",
    "    life_exp_2018_by_continent.append(temp_life_exp)\n",
    "            \n",
    "print('{:<8} {:>14} {:>8} {:>9}'.format('Continent','Population ','pcGDP ','Life Exp'))\n",
    "print('-------------------------------------------')\n",
    "print('{:<8} {:>14} {:>8} {:>10}'.format(continent_names[0].title(), pop_2018_by_continent[0], pcgdp_2018_by_continent[0], life_exp_2018_by_continent[0]))\n",
    "print('{:<8} {:>14} {:>8} {:>10}'.format(continent_names[1].title(), pop_2018_by_continent[1], pcgdp_2018_by_continent[1], life_exp_2018_by_continent[1]))\n",
    "print('{:<8} {:>14} {:>8} {:>10}'.format(continent_names[2].title(), pop_2018_by_continent[2], pcgdp_2018_by_continent[2], life_exp_2018_by_continent[2]))\n",
    "print('{:<8} {:>14} {:>8} {:>10}'.format(continent_names[3].title(), pop_2018_by_continent[3], pcgdp_2018_by_continent[3], life_exp_2018_by_continent[3]))"
   ]
  }
 ],
 "metadata": {
  "kernelspec": {
   "display_name": "Python 3 (ipykernel)",
   "language": "python",
   "name": "python3"
  },
  "language_info": {
   "codemirror_mode": {
    "name": "ipython",
    "version": 3
   },
   "file_extension": ".py",
   "mimetype": "text/x-python",
   "name": "python",
   "nbconvert_exporter": "python",
   "pygments_lexer": "ipython3",
   "version": "3.9.13"
  }
 },
 "nbformat": 4,
 "nbformat_minor": 5
}
