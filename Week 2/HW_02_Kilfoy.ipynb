{
 "cells": [
  {
   "cell_type": "markdown",
   "id": "ae1794bc",
   "metadata": {},
   "source": [
    "# DSCI 503 - Homework 02\n",
    "### Sean Kilfoy"
   ]
  },
  {
   "cell_type": "markdown",
   "id": "a197f69f",
   "metadata": {},
   "source": [
    "#### Problem 1: Altering Lists\n"
   ]
  },
  {
   "cell_type": "code",
   "execution_count": 1,
   "id": "90c69f98",
   "metadata": {},
   "outputs": [],
   "source": [
    "employees = ['beth', 'fred', 'drew', 'alex', 'emma', 'chad']\n",
    "years = [15, 11, 8, 5, 4, 2]"
   ]
  },
  {
   "cell_type": "code",
   "execution_count": 2,
   "id": "ee6402f1",
   "metadata": {},
   "outputs": [
    {
     "name": "stdout",
     "output_type": "stream",
     "text": [
      "['beth', 'gina', 'fred', 'drew', 'alex', 'emma', 'herb', 'chad']\n",
      "[15, 12, 11, 8, 5, 4, 3, 2]\n"
     ]
    }
   ],
   "source": [
    "years.insert(1, 12)\n",
    "employees.insert(1, 'gina')\n",
    "years.insert(-1, 3)\n",
    "employees.insert(-1, 'herb')\n",
    "\n",
    "print(employees)\n",
    "print(years)"
   ]
  },
  {
   "cell_type": "code",
   "execution_count": 3,
   "id": "59e906fe",
   "metadata": {},
   "outputs": [
    {
     "name": "stdout",
     "output_type": "stream",
     "text": [
      "['beth', 'gina', 'drew', 'emma', 'alex', 'herb', 'chad']\n",
      "[15, 12, 8, 6, 5, 4, 2]\n"
     ]
    }
   ],
   "source": [
    "years.remove(11)\n",
    "employees.remove('fred')\n",
    "\n",
    "employees.remove('emma')\n",
    "employees.insert(3, 'emma')\n",
    "years[5] = 6\n",
    "years.sort(reverse=True)\n",
    "\n",
    "print(employees)\n",
    "print(years)"
   ]
  },
  {
   "cell_type": "markdown",
   "id": "3e4838f3",
   "metadata": {},
   "source": [
    "#### Problem 2: Sorting and Slicing Lists"
   ]
  },
  {
   "cell_type": "code",
   "execution_count": 4,
   "id": "2c48f6dd",
   "metadata": {},
   "outputs": [],
   "source": [
    "import random\n",
    "random.seed(12)\n",
    "random_list = random.sample(range(500), 99)"
   ]
  },
  {
   "cell_type": "code",
   "execution_count": 5,
   "id": "cc2cf586",
   "metadata": {},
   "outputs": [
    {
     "name": "stdout",
     "output_type": "stream",
     "text": [
      "Length of random_list: 99\n",
      "First 10 elements of random_list: [242, 137, 336, 270, 341, 179, 73, 195, 5, 191]\n"
     ]
    }
   ],
   "source": [
    "print('Length of random_list:', len(random_list))\n",
    "print('First 10 elements of random_list:', random_list[:10])"
   ]
  },
  {
   "cell_type": "code",
   "execution_count": 6,
   "id": "545b963b",
   "metadata": {},
   "outputs": [
    {
     "name": "stdout",
     "output_type": "stream",
     "text": [
      "The sum of the elements in random list is 23739.\n"
     ]
    }
   ],
   "source": [
    "print('The sum of the elements in random list is ', sum(random_list),'.', sep='')"
   ]
  },
  {
   "cell_type": "code",
   "execution_count": 7,
   "id": "c17c5576",
   "metadata": {},
   "outputs": [
    {
     "name": "stdout",
     "output_type": "stream",
     "text": [
      "First 10 Elements of sorted_list: [0, 5, 9, 15, 26, 30, 31, 38, 42, 44]\n",
      "First 10 Elements of random_list: [242, 137, 336, 270, 341, 179, 73, 195, 5, 191]\n"
     ]
    }
   ],
   "source": [
    "sorted_list = sorted(random_list.copy())\n",
    "\n",
    "print('First 10 Elements of sorted_list:', sorted_list[:10])\n",
    "print('First 10 Elements of random_list:', random_list[:10])"
   ]
  },
  {
   "cell_type": "code",
   "execution_count": 8,
   "id": "eb0f460f",
   "metadata": {},
   "outputs": [
    {
     "name": "stdout",
     "output_type": "stream",
     "text": [
      "The smallest element of bot_slice is 0\n",
      "The largest element of bot_slice is 173\n",
      "\n",
      "The smallest element of mid_slice is 179\n",
      "The largest element of mid_slice is 311\n",
      "\n",
      "The smallest element of top_slice is 318\n",
      "The largest element of top_slice is 484\n"
     ]
    }
   ],
   "source": [
    "bot_slice = sorted_list[:33]\n",
    "mid_slice = sorted_list[33:66]\n",
    "top_slice = sorted_list[66:]\n",
    "\n",
    "print('The smallest element of bot_slice is ', min(bot_slice), sep='')\n",
    "print('The largest element of bot_slice is ', max(bot_slice), sep='')\n",
    "print()\n",
    "print('The smallest element of mid_slice is ', min(mid_slice), sep='')\n",
    "print('The largest element of mid_slice is ', max(mid_slice), sep='')\n",
    "print()\n",
    "print('The smallest element of top_slice is ', min(top_slice), sep='')\n",
    "print('The largest element of top_slice is ', max(top_slice), sep='')"
   ]
  },
  {
   "cell_type": "markdown",
   "id": "775ae3cb",
   "metadata": {},
   "source": [
    "#### Problem 3: Calculating Sum of Squared Errors"
   ]
  },
  {
   "cell_type": "code",
   "execution_count": 9,
   "id": "324cfba9",
   "metadata": {},
   "outputs": [],
   "source": [
    "length = [22.7, 22.4, 25.8, 21.3, 20.1, 22.1, 21.1, 25.3, 26.9, 26.9, 23.0, 23.8, 26.2, 20.4, 23.0, 21.9, 23.5, 27.8, 25.3, 25.9]\n",
    "weight = [9.2, 8.8, 10.7, 8.3, 6.2, 8.6, 7.2, 11.2, 10.5, 11.3, 9.6, 9.9, 10.9, 5.9, 9.5, 9.1, 9.7, 11.6, 10.2, 10.5]"
   ]
  },
  {
   "cell_type": "code",
   "execution_count": 10,
   "id": "f507b8a1",
   "metadata": {},
   "outputs": [
    {
     "name": "stdout",
     "output_type": "stream",
     "text": [
      "[8.42, 8.24, 10.28, 7.58, 6.86, 8.06, 7.46, 9.98, 10.94, 10.94, 8.6, 9.08, 10.52, 7.04, 8.6, 7.94, 8.9, 11.48, 9.98, 10.34]\n"
     ]
    }
   ],
   "source": [
    "# pred_weight = 0.6 ∗ length − 5.2\n",
    "pred_weight = []\n",
    "\n",
    "for l in length:\n",
    "    pred_weight.append(round(0.6*l-5.2, 2))\n",
    "    \n",
    "print(pred_weight)"
   ]
  },
  {
   "cell_type": "code",
   "execution_count": 11,
   "id": "5927f2fc",
   "metadata": {},
   "outputs": [
    {
     "name": "stdout",
     "output_type": "stream",
     "text": [
      "10.2236\n"
     ]
    }
   ],
   "source": [
    "sse=0\n",
    "# formula: SSE = ∑((weight-pred_weight)**2)\n",
    "for i in range(0, len(weight)):\n",
    "    sse += ((weight[i]-pred_weight[i])**2)\n",
    "\n",
    "print(round(sse,4))"
   ]
  },
  {
   "cell_type": "markdown",
   "id": "adbf8c99",
   "metadata": {},
   "source": [
    "#### Problem 4: Calculating Exam Scores"
   ]
  },
  {
   "cell_type": "code",
   "execution_count": 12,
   "id": "ecbc6874",
   "metadata": {},
   "outputs": [
    {
     "name": "stdout",
     "output_type": "stream",
     "text": [
      "Student 1 Grade: 64%\n",
      "Student 2 Grade: 84%\n"
     ]
    }
   ],
   "source": [
    "correct = ['D', 'B', 'C', 'A', 'C', 'D', 'A', 'C', 'C', 'B', 'D', 'A', 'B', 'D', 'C', 'D', 'C', 'D', 'C', 'A', 'B', 'D', 'C', 'B', 'A']\n",
    "answers1 = ['A', 'B', 'C', 'A', 'B', 'D', 'A', 'A', 'C', 'B', 'D', 'A', 'D', 'C', 'C', 'B', 'C', 'D', 'B', 'A', 'D', 'D', 'C', 'C', 'A']\n",
    "answers2 = ['D', 'A', 'C', 'A', 'B', 'D', 'A', 'C', 'C', 'B', 'D', 'A', 'B', 'D', 'A', 'D', 'C', 'D', 'C', 'A', 'B', 'C', 'C', 'B', 'A']\n",
    "\n",
    "count1 = 0\n",
    "count2 = 0\n",
    "\n",
    "for i in range(0, len(correct)):\n",
    "    if answers1[i] == correct[i]:\n",
    "        count1 += 1\n",
    "    if answers2[i] == correct[i]:\n",
    "        count2 += 1\n",
    "\n",
    "grade1 = int(count1/len(correct) * 100)\n",
    "grade2 = int(count2/len(correct) * 100)\n",
    "\n",
    "print('Student 1 Grade: ', grade1, '%', sep='')\n",
    "print('Student 2 Grade: ', grade2, '%', sep='')"
   ]
  },
  {
   "cell_type": "markdown",
   "id": "a8455015",
   "metadata": {},
   "source": [
    "#### Problem 5: Determining Monthly Payments"
   ]
  },
  {
   "cell_type": "code",
   "execution_count": 13,
   "id": "b587aa0b",
   "metadata": {},
   "outputs": [
    {
     "name": "stdout",
     "output_type": "stream",
     "text": [
      "A loan of $100000 would require monthly payments of $524.67.\n",
      "A loan of $110000 would require monthly payments of $577.13.\n",
      "A loan of $120000 would require monthly payments of $629.60.\n",
      "A loan of $130000 would require monthly payments of $682.06.\n",
      "A loan of $140000 would require monthly payments of $734.53.\n",
      "A loan of $150000 would require monthly payments of $787.00.\n",
      "A loan of $160000 would require monthly payments of $839.46.\n",
      "A loan of $170000 would require monthly payments of $891.93.\n",
      "A loan of $180000 would require monthly payments of $944.40.\n",
      "A loan of $190000 would require monthly payments of $996.86.\n",
      "A loan of $200000 would require monthly payments of $1049.33.\n"
     ]
    }
   ],
   "source": [
    "# Formula: L = PMT ⋅(1−(1 + i)**(−n))/i\n",
    "i = 0.004\n",
    "n = 360\n",
    "start = 100000\n",
    "increment = 10000\n",
    "\n",
    "for price in range(start, 200001, increment):\n",
    "    L = price\n",
    "    PMT = \"{0:.2f}\".format((L * (i / (1 - (1 + i) ** (-n)))))\n",
    "    print('A loan of $', L, ' would require monthly payments of $', PMT, '.', sep='')"
   ]
  },
  {
   "cell_type": "markdown",
   "id": "d1ab3c37",
   "metadata": {},
   "source": [
    "#### Problem 6: Creating an Amortization Schedule"
   ]
  },
  {
   "cell_type": "code",
   "execution_count": 14,
   "id": "f76da790",
   "metadata": {},
   "outputs": [
    {
     "name": "stdout",
     "output_type": "stream",
     "text": [
      "The balance at the end of 12 months will be $157553.12.\n",
      "The balance at the end of 24 months will be $154986.16.\n",
      "The balance at the end of 36 months will be $152293.23.\n",
      "The balance at the end of 48 months will be $149468.18.\n",
      "The balance at the end of 60 months will be $146504.50.\n",
      "The balance at the end of 72 months will be $143395.39.\n",
      "The balance at the end of 84 months will be $140133.72.\n",
      "The balance at the end of 96 months will be $136711.97.\n",
      "The balance at the end of 108 months will be $133122.33.\n",
      "The balance at the end of 120 months will be $129356.56.\n",
      "The balance at the end of 132 months will be $125406.00.\n",
      "The balance at the end of 144 months will be $121261.57.\n",
      "The balance at the end of 156 months will be $116913.78.\n",
      "The balance at the end of 168 months will be $112352.64.\n",
      "The balance at the end of 180 months will be $107567.68.\n",
      "The balance at the end of 192 months will be $102547.91.\n",
      "The balance at the end of 204 months will be $97281.84.\n",
      "The balance at the end of 216 months will be $91757.37.\n",
      "The balance at the end of 228 months will be $85961.81.\n",
      "The balance at the end of 240 months will be $79881.85.\n",
      "The balance at the end of 252 months will be $73503.55.\n",
      "The balance at the end of 264 months will be $66812.25.\n",
      "The balance at the end of 276 months will be $59792.61.\n",
      "The balance at the end of 288 months will be $52428.53.\n",
      "The balance at the end of 300 months will be $44703.11.\n",
      "The balance at the end of 312 months will be $36598.58.\n",
      "The balance at the end of 324 months will be $28096.34.\n",
      "The balance at the end of 336 months will be $19176.93.\n",
      "The balance at the end of 348 months will be $9819.84.\n",
      "The balance at the end of 360 months will be $3.59.\n"
     ]
    }
   ],
   "source": [
    "balance = 160000\n",
    "i = 0.004\n",
    "pmt = 839.46\n",
    "\n",
    "for month in range(1, 361):\n",
    "    balance = round((balance * (1 + i)) - pmt, 2)\n",
    "    if month % 12 == 0:\n",
    "        print('The balance at the end of ', month, ' months will be $', \"{0:.2f}\".format(balance), '.', sep='')\n",
    "        "
   ]
  },
  {
   "cell_type": "markdown",
   "id": "0bcd52e8",
   "metadata": {},
   "source": [
    "#### Problem 7: Calculating Price of a Bulk Order"
   ]
  },
  {
   "cell_type": "code",
   "execution_count": 15,
   "id": "06082f2e",
   "metadata": {},
   "outputs": [
    {
     "name": "stdout",
     "output_type": "stream",
     "text": [
      "The cost for an order of 84 widgets is $29400.\n",
      "The cost for an order of 100 widgets is $35000.\n",
      "The cost for an order of 126 widgets is $42800.\n",
      "The cost for an order of 150 widgets is $50000.\n",
      "The cost for an order of 186 widgets is $60800.\n",
      "The cost for an order of 200 widgets is $65000.\n",
      "The cost for an order of 216 widgets is $69000.\n",
      "The cost for an order of 248 widgets is $77000.\n"
     ]
    }
   ],
   "source": [
    "quantities = [84, 100, 126, 150, 186, 200, 216, 248]\n",
    "\n",
    "for q in quantities:\n",
    "    if q <= 100:\n",
    "        cost = q * 350\n",
    "    elif q <= 200:\n",
    "        cost = 100 * 350 + (q - 100) * 300\n",
    "    else:\n",
    "        cost = 100 * 350 + 100 * 300 + (q - 200) * 250\n",
    "    print('The cost for an order of ', q, ' widgets is $', cost, '.', sep='')\n"
   ]
  },
  {
   "cell_type": "markdown",
   "id": "97bd335e",
   "metadata": {},
   "source": [
    "#### Problem 8: Adding Matrices"
   ]
  },
  {
   "cell_type": "code",
   "execution_count": 16,
   "id": "ba7d5c98",
   "metadata": {},
   "outputs": [],
   "source": [
    "A = [[13, 43, 28, 22, 41], [17, 39, 46, 16, 21], [41, 34, 31, 25, 14]]\n",
    "B = [[35, 29, 43, 21, 31], [48, 26, 19, 17, 23], [32, 34, 24, 16, 27]]"
   ]
  },
  {
   "cell_type": "code",
   "execution_count": 17,
   "id": "6fd0773c",
   "metadata": {},
   "outputs": [
    {
     "name": "stdout",
     "output_type": "stream",
     "text": [
      "[48, 72, 71, 43, 72]\n",
      "[65, 65, 65, 33, 44]\n",
      "[73, 68, 55, 41, 41]\n"
     ]
    }
   ],
   "source": [
    "AplusB = []\n",
    "\n",
    "for i in range(0, len(A)):\n",
    "    row = []\n",
    "    for j in range(0, len(A[i])):\n",
    "        row.append(A[i][j] + B[i][j])\n",
    "    AplusB.append(row)\n",
    "\n",
    "for row in AplusB:\n",
    "    print(row)\n"
   ]
  }
 ],
 "metadata": {
  "kernelspec": {
   "display_name": "Python 3 (ipykernel)",
   "language": "python",
   "name": "python3"
  },
  "language_info": {
   "codemirror_mode": {
    "name": "ipython",
    "version": 3
   },
   "file_extension": ".py",
   "mimetype": "text/x-python",
   "name": "python",
   "nbconvert_exporter": "python",
   "pygments_lexer": "ipython3",
   "version": "3.9.13"
  }
 },
 "nbformat": 4,
 "nbformat_minor": 5
}
