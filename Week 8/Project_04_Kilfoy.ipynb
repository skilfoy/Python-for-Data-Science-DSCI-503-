{
 "cells": [
  {
   "cell_type": "markdown",
   "id": "7fb01da4",
   "metadata": {},
   "source": [
    "# DSCI 503 – Project 04\n",
    "### Sean Kilfoy"
   ]
  },
  {
   "cell_type": "code",
   "execution_count": 1,
   "id": "8b0165e8",
   "metadata": {},
   "outputs": [],
   "source": [
    "import numpy as np\n",
    "import pandas as pd\n",
    "import matplotlib.pyplot as plt\n",
    "from sklearn.model_selection import train_test_split\n",
    "from sklearn.preprocessing import OneHotEncoder\n",
    "from sklearn.linear_model import LogisticRegression\n",
    "from sklearn.tree import DecisionTreeClassifier\n",
    "from sklearn.ensemble import RandomForestClassifier\n",
    "from sklearn.metrics import classification_report, confusion_matrix"
   ]
  },
  {
   "cell_type": "markdown",
   "id": "220a9678",
   "metadata": {},
   "source": [
    "## Part 1: Loading the Dataset; Preliminary Analysis\n",
    "\n",
    "In this section, I will load the data into a DataFrame and explore the structure of the data set."
   ]
  },
  {
   "cell_type": "code",
   "execution_count": 2,
   "id": "1bd200c3",
   "metadata": {},
   "outputs": [
    {
     "data": {
      "text/html": [
       "<div>\n",
       "<style scoped>\n",
       "    .dataframe tbody tr th:only-of-type {\n",
       "        vertical-align: middle;\n",
       "    }\n",
       "\n",
       "    .dataframe tbody tr th {\n",
       "        vertical-align: top;\n",
       "    }\n",
       "\n",
       "    .dataframe thead th {\n",
       "        text-align: right;\n",
       "    }\n",
       "</style>\n",
       "<table border=\"1\" class=\"dataframe\">\n",
       "  <thead>\n",
       "    <tr style=\"text-align: right;\">\n",
       "      <th></th>\n",
       "      <th>Elevation</th>\n",
       "      <th>Aspect</th>\n",
       "      <th>Slope</th>\n",
       "      <th>Horizontal_Distance_To_Hydrology</th>\n",
       "      <th>Vertical_Distance_To_Hydrology</th>\n",
       "      <th>Horizontal_Distance_To_Roadways</th>\n",
       "      <th>Hillshade_9am</th>\n",
       "      <th>Hillshade_Noon</th>\n",
       "      <th>Hillshade_3pm</th>\n",
       "      <th>Horizontal_Distance_To_Fire_Points</th>\n",
       "      <th>Wilderness_Area</th>\n",
       "      <th>Soil_Type</th>\n",
       "      <th>Cover_Type</th>\n",
       "    </tr>\n",
       "  </thead>\n",
       "  <tbody>\n",
       "    <tr>\n",
       "      <th>0</th>\n",
       "      <td>2596</td>\n",
       "      <td>51</td>\n",
       "      <td>3</td>\n",
       "      <td>258</td>\n",
       "      <td>0</td>\n",
       "      <td>510</td>\n",
       "      <td>221</td>\n",
       "      <td>232</td>\n",
       "      <td>148</td>\n",
       "      <td>6279</td>\n",
       "      <td>Rawah</td>\n",
       "      <td>29</td>\n",
       "      <td>5</td>\n",
       "    </tr>\n",
       "    <tr>\n",
       "      <th>1</th>\n",
       "      <td>2590</td>\n",
       "      <td>56</td>\n",
       "      <td>2</td>\n",
       "      <td>212</td>\n",
       "      <td>-6</td>\n",
       "      <td>390</td>\n",
       "      <td>220</td>\n",
       "      <td>235</td>\n",
       "      <td>151</td>\n",
       "      <td>6225</td>\n",
       "      <td>Rawah</td>\n",
       "      <td>29</td>\n",
       "      <td>5</td>\n",
       "    </tr>\n",
       "    <tr>\n",
       "      <th>2</th>\n",
       "      <td>2804</td>\n",
       "      <td>139</td>\n",
       "      <td>9</td>\n",
       "      <td>268</td>\n",
       "      <td>65</td>\n",
       "      <td>3180</td>\n",
       "      <td>234</td>\n",
       "      <td>238</td>\n",
       "      <td>135</td>\n",
       "      <td>6121</td>\n",
       "      <td>Rawah</td>\n",
       "      <td>12</td>\n",
       "      <td>2</td>\n",
       "    </tr>\n",
       "    <tr>\n",
       "      <th>3</th>\n",
       "      <td>2785</td>\n",
       "      <td>155</td>\n",
       "      <td>18</td>\n",
       "      <td>242</td>\n",
       "      <td>118</td>\n",
       "      <td>3090</td>\n",
       "      <td>238</td>\n",
       "      <td>238</td>\n",
       "      <td>122</td>\n",
       "      <td>6211</td>\n",
       "      <td>Rawah</td>\n",
       "      <td>30</td>\n",
       "      <td>2</td>\n",
       "    </tr>\n",
       "    <tr>\n",
       "      <th>4</th>\n",
       "      <td>2595</td>\n",
       "      <td>45</td>\n",
       "      <td>2</td>\n",
       "      <td>153</td>\n",
       "      <td>-1</td>\n",
       "      <td>391</td>\n",
       "      <td>220</td>\n",
       "      <td>234</td>\n",
       "      <td>150</td>\n",
       "      <td>6172</td>\n",
       "      <td>Rawah</td>\n",
       "      <td>29</td>\n",
       "      <td>5</td>\n",
       "    </tr>\n",
       "  </tbody>\n",
       "</table>\n",
       "</div>"
      ],
      "text/plain": [
       "   Elevation  Aspect  Slope  Horizontal_Distance_To_Hydrology  \\\n",
       "0       2596      51      3                               258   \n",
       "1       2590      56      2                               212   \n",
       "2       2804     139      9                               268   \n",
       "3       2785     155     18                               242   \n",
       "4       2595      45      2                               153   \n",
       "\n",
       "   Vertical_Distance_To_Hydrology  Horizontal_Distance_To_Roadways  \\\n",
       "0                               0                              510   \n",
       "1                              -6                              390   \n",
       "2                              65                             3180   \n",
       "3                             118                             3090   \n",
       "4                              -1                              391   \n",
       "\n",
       "   Hillshade_9am  Hillshade_Noon  Hillshade_3pm  \\\n",
       "0            221             232            148   \n",
       "1            220             235            151   \n",
       "2            234             238            135   \n",
       "3            238             238            122   \n",
       "4            220             234            150   \n",
       "\n",
       "   Horizontal_Distance_To_Fire_Points Wilderness_Area  Soil_Type  Cover_Type  \n",
       "0                                6279           Rawah         29           5  \n",
       "1                                6225           Rawah         29           5  \n",
       "2                                6121           Rawah         12           2  \n",
       "3                                6211           Rawah         30           2  \n",
       "4                                6172           Rawah         29           5  "
      ]
     },
     "execution_count": 2,
     "metadata": {},
     "output_type": "execute_result"
    }
   ],
   "source": [
    "fc = pd.read_csv('forest_cover.txt', sep='\\t')\n",
    "fc.head()"
   ]
  },
  {
   "cell_type": "markdown",
   "id": "cc2ef46a",
   "metadata": {},
   "source": [
    "Displaying the shape of the dataset tells me that it has 15,120 instances and 13 features."
   ]
  },
  {
   "cell_type": "code",
   "execution_count": 3,
   "id": "e23290d1",
   "metadata": {},
   "outputs": [
    {
     "data": {
      "text/plain": [
       "(15120, 13)"
      ]
     },
     "execution_count": 3,
     "metadata": {},
     "output_type": "execute_result"
    }
   ],
   "source": [
    "fc.shape"
   ]
  },
  {
   "cell_type": "markdown",
   "id": "fbdfadb9",
   "metadata": {},
   "source": [
    "Following is the distribution of cover types in the datasets."
   ]
  },
  {
   "cell_type": "code",
   "execution_count": 4,
   "id": "0b153587",
   "metadata": {},
   "outputs": [
    {
     "data": {
      "text/plain": [
       "1    2160\n",
       "2    2160\n",
       "3    2160\n",
       "4    2160\n",
       "5    2160\n",
       "6    2160\n",
       "7    2160\n",
       "Name: Cover_Type, dtype: int64"
      ]
     },
     "execution_count": 4,
     "metadata": {},
     "output_type": "execute_result"
    }
   ],
   "source": [
    "fc['Cover_Type'].value_counts().sort_index()"
   ]
  },
  {
   "cell_type": "markdown",
   "id": "0f461114",
   "metadata": {},
   "source": [
    "Below is a color palette for plots I will create later in this project."
   ]
  },
  {
   "cell_type": "code",
   "execution_count": 5,
   "id": "15e59077",
   "metadata": {},
   "outputs": [],
   "source": [
    "palette = [\n",
    "    'orchid',\n",
    "    'lightcoral',\n",
    "    'orange',\n",
    "    'gold',\n",
    "    'lightgreen',\n",
    "    'deepskyblue',\n",
    "    'cornflowerblue'\n",
    "]"
   ]
  },
  {
   "cell_type": "markdown",
   "id": "a40ea821",
   "metadata": {},
   "source": [
    "## Part 2: Distribution of Cover Type by Wilderness Area\n",
    "In this part, I will determine the distribution of wilderness areas within the dataset and create a DataFrame that determines how many regions of each cover type are in each of the four wilderness areas."
   ]
  },
  {
   "cell_type": "markdown",
   "id": "f251ccef",
   "metadata": {},
   "source": [
    "Below is the distribution of the wilderness areas within the dataset:"
   ]
  },
  {
   "cell_type": "code",
   "execution_count": 6,
   "id": "60ecfd53",
   "metadata": {},
   "outputs": [
    {
     "data": {
      "text/plain": [
       "Cache la Poudre    4675\n",
       "Comanche Peak      6349\n",
       "Neota               499\n",
       "Rawah              3597\n",
       "Name: Wilderness_Area, dtype: int64"
      ]
     },
     "execution_count": 6,
     "metadata": {},
     "output_type": "execute_result"
    }
   ],
   "source": [
    "fc['Wilderness_Area'].value_counts().sort_index()"
   ]
  },
  {
   "cell_type": "markdown",
   "id": "b4bf3741",
   "metadata": {},
   "source": [
    "Below is a DataFrame displaying the number of regions of each cover type that are in each of the four wilderness areas."
   ]
  },
  {
   "cell_type": "code",
   "execution_count": 7,
   "id": "23db1e74",
   "metadata": {},
   "outputs": [
    {
     "data": {
      "text/html": [
       "<div>\n",
       "<style scoped>\n",
       "    .dataframe tbody tr th:only-of-type {\n",
       "        vertical-align: middle;\n",
       "    }\n",
       "\n",
       "    .dataframe tbody tr th {\n",
       "        vertical-align: top;\n",
       "    }\n",
       "\n",
       "    .dataframe thead th {\n",
       "        text-align: right;\n",
       "    }\n",
       "</style>\n",
       "<table border=\"1\" class=\"dataframe\">\n",
       "  <thead>\n",
       "    <tr style=\"text-align: right;\">\n",
       "      <th>Wilderness_Area</th>\n",
       "      <th>Cache la Poudre</th>\n",
       "      <th>Comanche Peak</th>\n",
       "      <th>Neota</th>\n",
       "      <th>Rawah</th>\n",
       "    </tr>\n",
       "    <tr>\n",
       "      <th>Cover_Type</th>\n",
       "      <th></th>\n",
       "      <th></th>\n",
       "      <th></th>\n",
       "      <th></th>\n",
       "    </tr>\n",
       "  </thead>\n",
       "  <tbody>\n",
       "    <tr>\n",
       "      <th>1</th>\n",
       "      <td>0</td>\n",
       "      <td>917</td>\n",
       "      <td>181</td>\n",
       "      <td>1062</td>\n",
       "    </tr>\n",
       "    <tr>\n",
       "      <th>2</th>\n",
       "      <td>20</td>\n",
       "      <td>940</td>\n",
       "      <td>66</td>\n",
       "      <td>1134</td>\n",
       "    </tr>\n",
       "    <tr>\n",
       "      <th>3</th>\n",
       "      <td>1297</td>\n",
       "      <td>863</td>\n",
       "      <td>0</td>\n",
       "      <td>0</td>\n",
       "    </tr>\n",
       "    <tr>\n",
       "      <th>4</th>\n",
       "      <td>2160</td>\n",
       "      <td>0</td>\n",
       "      <td>0</td>\n",
       "      <td>0</td>\n",
       "    </tr>\n",
       "    <tr>\n",
       "      <th>5</th>\n",
       "      <td>0</td>\n",
       "      <td>1304</td>\n",
       "      <td>0</td>\n",
       "      <td>856</td>\n",
       "    </tr>\n",
       "    <tr>\n",
       "      <th>6</th>\n",
       "      <td>1198</td>\n",
       "      <td>962</td>\n",
       "      <td>0</td>\n",
       "      <td>0</td>\n",
       "    </tr>\n",
       "    <tr>\n",
       "      <th>7</th>\n",
       "      <td>0</td>\n",
       "      <td>1363</td>\n",
       "      <td>252</td>\n",
       "      <td>545</td>\n",
       "    </tr>\n",
       "  </tbody>\n",
       "</table>\n",
       "</div>"
      ],
      "text/plain": [
       "Wilderness_Area  Cache la Poudre  Comanche Peak  Neota  Rawah\n",
       "Cover_Type                                                   \n",
       "1                              0            917    181   1062\n",
       "2                             20            940     66   1134\n",
       "3                           1297            863      0      0\n",
       "4                           2160              0      0      0\n",
       "5                              0           1304      0    856\n",
       "6                           1198            962      0      0\n",
       "7                              0           1363    252    545"
      ]
     },
     "execution_count": 7,
     "metadata": {},
     "output_type": "execute_result"
    }
   ],
   "source": [
    "ct_by_wa = pd.crosstab(fc['Cover_Type'], fc['Wilderness_Area'])\n",
    "ct_by_wa"
   ]
  },
  {
   "cell_type": "markdown",
   "id": "dc054a23",
   "metadata": {},
   "source": [
    "Following is a stacked bar chart representing the above data."
   ]
  },
  {
   "cell_type": "code",
   "execution_count": 8,
   "id": "f3968b7d",
   "metadata": {},
   "outputs": [
    {
     "data": {
      "image/png": "[encoded data removed]",
      "text/plain": [
       "<Figure size 800x400 with 1 Axes>"
      ]
     },
     "metadata": {},
     "output_type": "display_data"
    }
   ],
   "source": [
    "ct_by_wa_props = ct_by_wa / ct_by_wa.sum()\n",
    "bb = np.cumsum(ct_by_wa_props) - ct_by_wa_props\n",
    "fig = plt.figure(figsize=[8, 4])\n",
    "for i, row in ct_by_wa_props.iterrows():\n",
    "    plt.bar(\n",
    "        ct_by_wa_props.columns,\n",
    "        row,\n",
    "        bottom=bb.loc[i],\n",
    "        edgecolor='black',\n",
    "        color=palette[i-1],\n",
    "        label=i\n",
    "    )\n",
    "plt.xlabel('Wilderness Area')\n",
    "plt.ylabel('Proportion')\n",
    "plt.title('Distribution of Cover Type by Wilderness Area')\n",
    "plt.legend(\n",
    "    title='Cover Type',\n",
    "    bbox_to_anchor=(1.02, 1),\n",
    "    loc='upper left'\n",
    ")\n",
    "plt.show()"
   ]
  },
  {
   "cell_type": "markdown",
   "id": "a87670fd",
   "metadata": {},
   "source": [
    "## Part 3: Distribution of Cover Type by Soil Type\n",
    "In this section, I explore the relationship between cover type and soil type. I start by creating a DataFrame to determine the how many regions of each cover type there are for each of the 40 soil types."
   ]
  },
  {
   "cell_type": "code",
   "execution_count": 9,
   "id": "04b5eb06",
   "metadata": {},
   "outputs": [
    {
     "data": {
      "text/html": [
       "<div>\n",
       "<style scoped>\n",
       "    .dataframe tbody tr th:only-of-type {\n",
       "        vertical-align: middle;\n",
       "    }\n",
       "\n",
       "    .dataframe tbody tr th {\n",
       "        vertical-align: top;\n",
       "    }\n",
       "\n",
       "    .dataframe thead th {\n",
       "        text-align: right;\n",
       "    }\n",
       "</style>\n",
       "<table border=\"1\" class=\"dataframe\">\n",
       "  <thead>\n",
       "    <tr style=\"text-align: right;\">\n",
       "      <th>Soil_Type</th>\n",
       "      <th>1</th>\n",
       "      <th>2</th>\n",
       "      <th>3</th>\n",
       "      <th>4</th>\n",
       "      <th>5</th>\n",
       "      <th>6</th>\n",
       "      <th>8</th>\n",
       "      <th>9</th>\n",
       "      <th>10</th>\n",
       "      <th>11</th>\n",
       "      <th>...</th>\n",
       "      <th>31</th>\n",
       "      <th>32</th>\n",
       "      <th>33</th>\n",
       "      <th>34</th>\n",
       "      <th>35</th>\n",
       "      <th>36</th>\n",
       "      <th>37</th>\n",
       "      <th>38</th>\n",
       "      <th>39</th>\n",
       "      <th>40</th>\n",
       "    </tr>\n",
       "    <tr>\n",
       "      <th>Cover_Type</th>\n",
       "      <th></th>\n",
       "      <th></th>\n",
       "      <th></th>\n",
       "      <th></th>\n",
       "      <th></th>\n",
       "      <th></th>\n",
       "      <th></th>\n",
       "      <th></th>\n",
       "      <th></th>\n",
       "      <th></th>\n",
       "      <th></th>\n",
       "      <th></th>\n",
       "      <th></th>\n",
       "      <th></th>\n",
       "      <th></th>\n",
       "      <th></th>\n",
       "      <th></th>\n",
       "      <th></th>\n",
       "      <th></th>\n",
       "      <th></th>\n",
       "      <th></th>\n",
       "    </tr>\n",
       "  </thead>\n",
       "  <tbody>\n",
       "    <tr>\n",
       "      <th>1</th>\n",
       "      <td>0</td>\n",
       "      <td>0</td>\n",
       "      <td>0</td>\n",
       "      <td>5</td>\n",
       "      <td>0</td>\n",
       "      <td>0</td>\n",
       "      <td>0</td>\n",
       "      <td>1</td>\n",
       "      <td>9</td>\n",
       "      <td>5</td>\n",
       "      <td>...</td>\n",
       "      <td>114</td>\n",
       "      <td>230</td>\n",
       "      <td>184</td>\n",
       "      <td>0</td>\n",
       "      <td>3</td>\n",
       "      <td>0</td>\n",
       "      <td>0</td>\n",
       "      <td>80</td>\n",
       "      <td>79</td>\n",
       "      <td>49</td>\n",
       "    </tr>\n",
       "    <tr>\n",
       "      <th>2</th>\n",
       "      <td>0</td>\n",
       "      <td>3</td>\n",
       "      <td>12</td>\n",
       "      <td>20</td>\n",
       "      <td>0</td>\n",
       "      <td>7</td>\n",
       "      <td>1</td>\n",
       "      <td>9</td>\n",
       "      <td>81</td>\n",
       "      <td>67</td>\n",
       "      <td>...</td>\n",
       "      <td>97</td>\n",
       "      <td>255</td>\n",
       "      <td>184</td>\n",
       "      <td>12</td>\n",
       "      <td>1</td>\n",
       "      <td>2</td>\n",
       "      <td>0</td>\n",
       "      <td>7</td>\n",
       "      <td>3</td>\n",
       "      <td>3</td>\n",
       "    </tr>\n",
       "    <tr>\n",
       "      <th>3</th>\n",
       "      <td>121</td>\n",
       "      <td>283</td>\n",
       "      <td>133</td>\n",
       "      <td>462</td>\n",
       "      <td>55</td>\n",
       "      <td>248</td>\n",
       "      <td>0</td>\n",
       "      <td>0</td>\n",
       "      <td>717</td>\n",
       "      <td>89</td>\n",
       "      <td>...</td>\n",
       "      <td>0</td>\n",
       "      <td>5</td>\n",
       "      <td>0</td>\n",
       "      <td>0</td>\n",
       "      <td>0</td>\n",
       "      <td>0</td>\n",
       "      <td>0</td>\n",
       "      <td>0</td>\n",
       "      <td>0</td>\n",
       "      <td>0</td>\n",
       "    </tr>\n",
       "    <tr>\n",
       "      <th>4</th>\n",
       "      <td>139</td>\n",
       "      <td>94</td>\n",
       "      <td>799</td>\n",
       "      <td>133</td>\n",
       "      <td>39</td>\n",
       "      <td>244</td>\n",
       "      <td>0</td>\n",
       "      <td>0</td>\n",
       "      <td>170</td>\n",
       "      <td>24</td>\n",
       "      <td>...</td>\n",
       "      <td>0</td>\n",
       "      <td>0</td>\n",
       "      <td>0</td>\n",
       "      <td>0</td>\n",
       "      <td>0</td>\n",
       "      <td>0</td>\n",
       "      <td>0</td>\n",
       "      <td>0</td>\n",
       "      <td>0</td>\n",
       "      <td>0</td>\n",
       "    </tr>\n",
       "    <tr>\n",
       "      <th>5</th>\n",
       "      <td>0</td>\n",
       "      <td>61</td>\n",
       "      <td>0</td>\n",
       "      <td>129</td>\n",
       "      <td>0</td>\n",
       "      <td>0</td>\n",
       "      <td>0</td>\n",
       "      <td>0</td>\n",
       "      <td>64</td>\n",
       "      <td>154</td>\n",
       "      <td>...</td>\n",
       "      <td>87</td>\n",
       "      <td>100</td>\n",
       "      <td>115</td>\n",
       "      <td>4</td>\n",
       "      <td>0</td>\n",
       "      <td>0</td>\n",
       "      <td>0</td>\n",
       "      <td>0</td>\n",
       "      <td>0</td>\n",
       "      <td>0</td>\n",
       "    </tr>\n",
       "    <tr>\n",
       "      <th>6</th>\n",
       "      <td>95</td>\n",
       "      <td>182</td>\n",
       "      <td>18</td>\n",
       "      <td>87</td>\n",
       "      <td>71</td>\n",
       "      <td>151</td>\n",
       "      <td>0</td>\n",
       "      <td>0</td>\n",
       "      <td>1101</td>\n",
       "      <td>67</td>\n",
       "      <td>...</td>\n",
       "      <td>7</td>\n",
       "      <td>30</td>\n",
       "      <td>66</td>\n",
       "      <td>2</td>\n",
       "      <td>0</td>\n",
       "      <td>0</td>\n",
       "      <td>0</td>\n",
       "      <td>0</td>\n",
       "      <td>0</td>\n",
       "      <td>0</td>\n",
       "    </tr>\n",
       "    <tr>\n",
       "      <th>7</th>\n",
       "      <td>0</td>\n",
       "      <td>0</td>\n",
       "      <td>0</td>\n",
       "      <td>7</td>\n",
       "      <td>0</td>\n",
       "      <td>0</td>\n",
       "      <td>0</td>\n",
       "      <td>0</td>\n",
       "      <td>0</td>\n",
       "      <td>0</td>\n",
       "      <td>...</td>\n",
       "      <td>27</td>\n",
       "      <td>70</td>\n",
       "      <td>67</td>\n",
       "      <td>4</td>\n",
       "      <td>98</td>\n",
       "      <td>8</td>\n",
       "      <td>34</td>\n",
       "      <td>641</td>\n",
       "      <td>575</td>\n",
       "      <td>407</td>\n",
       "    </tr>\n",
       "  </tbody>\n",
       "</table>\n",
       "<p>7 rows × 38 columns</p>\n",
       "</div>"
      ],
      "text/plain": [
       "Soil_Type    1    2    3    4   5    6   8   9     10   11  ...   31   32  \\\n",
       "Cover_Type                                                  ...             \n",
       "1             0    0    0    5   0    0   0   1     9    5  ...  114  230   \n",
       "2             0    3   12   20   0    7   1   9    81   67  ...   97  255   \n",
       "3           121  283  133  462  55  248   0   0   717   89  ...    0    5   \n",
       "4           139   94  799  133  39  244   0   0   170   24  ...    0    0   \n",
       "5             0   61    0  129   0    0   0   0    64  154  ...   87  100   \n",
       "6            95  182   18   87  71  151   0   0  1101   67  ...    7   30   \n",
       "7             0    0    0    7   0    0   0   0     0    0  ...   27   70   \n",
       "\n",
       "Soil_Type    33  34  35  36  37   38   39   40  \n",
       "Cover_Type                                      \n",
       "1           184   0   3   0   0   80   79   49  \n",
       "2           184  12   1   2   0    7    3    3  \n",
       "3             0   0   0   0   0    0    0    0  \n",
       "4             0   0   0   0   0    0    0    0  \n",
       "5           115   4   0   0   0    0    0    0  \n",
       "6            66   2   0   0   0    0    0    0  \n",
       "7            67   4  98   8  34  641  575  407  \n",
       "\n",
       "[7 rows x 38 columns]"
      ]
     },
     "execution_count": 9,
     "metadata": {},
     "output_type": "execute_result"
    }
   ],
   "source": [
    "ct_by_st = pd.crosstab(fc['Cover_Type'], fc['Soil_Type'])\n",
    "ct_by_st"
   ]
  },
  {
   "cell_type": "markdown",
   "id": "284e79e1",
   "metadata": {},
   "source": [
    "Below is a stacked bar chart representation of the above data."
   ]
  },
  {
   "cell_type": "code",
   "execution_count": 10,
   "id": "203f5664",
   "metadata": {},
   "outputs": [
    {
     "data": {
      "image/png": "[encoded data removed]",
      "text/plain": [
       "<Figure size 1200x600 with 1 Axes>"
      ]
     },
     "metadata": {},
     "output_type": "display_data"
    }
   ],
   "source": [
    "ct_by_st_props = ct_by_st / ct_by_st.sum()\n",
    "bb = np.cumsum(ct_by_st_props) - ct_by_st_props\n",
    "fig = plt.figure(figsize=[12,6])\n",
    "for i, row in ct_by_st_props.iterrows():\n",
    "    plt.bar(\n",
    "        ct_by_st_props.columns,\n",
    "        row,\n",
    "        bottom=bb.loc[i],\n",
    "        edgecolor='black',\n",
    "        color=palette[i-1],\n",
    "        label=i\n",
    "    )\n",
    "plt.xlabel('Soil Type')\n",
    "plt.ylabel('Proportion')\n",
    "plt.title('Distribution of Cover Type by Soil Type')\n",
    "plt.legend(\n",
    "    title='Cover Type',\n",
    "    bbox_to_anchor=(1.02, 1),\n",
    "    loc='upper left'\n",
    ")\n",
    "plt.show()"
   ]
  },
  {
   "cell_type": "markdown",
   "id": "6d83509e",
   "metadata": {},
   "source": [
    "## Part 4: Distribution of Elevation by Cover Type\n",
    "In this section, I explore the relationship between cover type and elevation. I start by calculating the average elevation for each of the seven cover types."
   ]
  },
  {
   "cell_type": "code",
   "execution_count": 11,
   "id": "86e4f1bc",
   "metadata": {},
   "outputs": [
    {
     "data": {
      "text/html": [
       "<div>\n",
       "<style scoped>\n",
       "    .dataframe tbody tr th:only-of-type {\n",
       "        vertical-align: middle;\n",
       "    }\n",
       "\n",
       "    .dataframe tbody tr th {\n",
       "        vertical-align: top;\n",
       "    }\n",
       "\n",
       "    .dataframe thead th {\n",
       "        text-align: right;\n",
       "    }\n",
       "</style>\n",
       "<table border=\"1\" class=\"dataframe\">\n",
       "  <thead>\n",
       "    <tr style=\"text-align: right;\">\n",
       "      <th></th>\n",
       "      <th>Elevation</th>\n",
       "    </tr>\n",
       "    <tr>\n",
       "      <th>Cover_Type</th>\n",
       "      <th></th>\n",
       "    </tr>\n",
       "  </thead>\n",
       "  <tbody>\n",
       "    <tr>\n",
       "      <th>1</th>\n",
       "      <td>3128.025926</td>\n",
       "    </tr>\n",
       "    <tr>\n",
       "      <th>2</th>\n",
       "      <td>2922.540278</td>\n",
       "    </tr>\n",
       "    <tr>\n",
       "      <th>3</th>\n",
       "      <td>2398.423148</td>\n",
       "    </tr>\n",
       "    <tr>\n",
       "      <th>4</th>\n",
       "      <td>2223.420370</td>\n",
       "    </tr>\n",
       "    <tr>\n",
       "      <th>5</th>\n",
       "      <td>2786.801389</td>\n",
       "    </tr>\n",
       "    <tr>\n",
       "      <th>6</th>\n",
       "      <td>2423.276852</td>\n",
       "    </tr>\n",
       "    <tr>\n",
       "      <th>7</th>\n",
       "      <td>3362.769907</td>\n",
       "    </tr>\n",
       "  </tbody>\n",
       "</table>\n",
       "</div>"
      ],
      "text/plain": [
       "              Elevation\n",
       "Cover_Type             \n",
       "1           3128.025926\n",
       "2           2922.540278\n",
       "3           2398.423148\n",
       "4           2223.420370\n",
       "5           2786.801389\n",
       "6           2423.276852\n",
       "7           3362.769907"
      ]
     },
     "execution_count": 11,
     "metadata": {},
     "output_type": "execute_result"
    }
   ],
   "source": [
    "elev_by_ct = fc[['Elevation', 'Cover_Type']].groupby('Cover_Type').mean()\n",
    "elev_by_ct"
   ]
  },
  {
   "cell_type": "markdown",
   "id": "ba8f6cbc",
   "metadata": {},
   "source": [
    "Below are histograms displaying the relationship between cover type and elevation."
   ]
  },
  {
   "cell_type": "code",
   "execution_count": 12,
   "id": "f399ed45",
   "metadata": {
    "scrolled": true
   },
   "outputs": [
    {
     "data": {
      "image/png": "[encoded data removed]",
      "text/plain": [
       "<Figure size 1200x600 with 8 Axes>"
      ]
     },
     "metadata": {},
     "output_type": "display_data"
    }
   ],
   "source": [
    "cover_type_names = {\n",
    "    1: 'Spruce/Fir',\n",
    "    2: 'Lodgepole Pine',\n",
    "    3: 'Ponderosa Pine',\n",
    "    4: 'Cottonwood/Willow',\n",
    "    5: 'Aspen',\n",
    "    6: 'Douglas-Fir',\n",
    "    7: 'Krummholz'\n",
    "}\n",
    "fig, axs = plt.subplots(2, 4, figsize=[12,6])\n",
    "for i, ax in enumerate(axs.flat):\n",
    "    if i < 7:\n",
    "        ct = i+1\n",
    "        elev = fc.loc[fc['Cover_Type']==ct, 'Elevation']\n",
    "        ax.hist(\n",
    "            elev,\n",
    "            bins=np.arange(1800, 4050, 50),\n",
    "            color=palette[ct-1]\n",
    "        )\n",
    "        ax.set_title(cover_type_names[ct])\n",
    "        ax.set_xlim([1800, 4000])\n",
    "        ax.set_ylim([0, 600])\n",
    "        ax.set_xlabel('Elevation')\n",
    "        ax.set_ylabel('Count')\n",
    "fig.tight_layout()\n",
    "plt.show()"
   ]
  },
  {
   "cell_type": "markdown",
   "id": "fda54b06",
   "metadata": {},
   "source": [
    "## Part 5: Creating Training, Validation, and Test Sets\n",
    "In this part, I encode categorical variables and create training, validation, and test sets using the Forest Cover data. I start by separating the categorical features, numerical features, and labels."
   ]
  },
  {
   "cell_type": "code",
   "execution_count": 13,
   "id": "77b95239",
   "metadata": {},
   "outputs": [
    {
     "name": "stdout",
     "output_type": "stream",
     "text": [
      "Numerical Feature Array Shape:   (15120, 12)\n",
      "Categorical Feature Array Shape: (15120, 1)\n",
      "Label Array Shape:               (15120,)\n"
     ]
    }
   ],
   "source": [
    "X_num = fc[[\n",
    "    'Elevation',\n",
    "    'Aspect',\n",
    "    'Slope',\n",
    "    'Horizontal_Distance_To_Hydrology',\n",
    "    'Vertical_Distance_To_Hydrology',\n",
    "    'Horizontal_Distance_To_Roadways',\n",
    "    'Hillshade_9am',\n",
    "    'Hillshade_Noon',\n",
    "    'Hillshade_3pm',\n",
    "    'Horizontal_Distance_To_Fire_Points',\n",
    "    'Soil_Type',\n",
    "    'Cover_Type'\n",
    "]].values\n",
    "X_cat = fc[[\n",
    "    'Wilderness_Area'\n",
    "]].values\n",
    "y = fc['Cover_Type'].values\n",
    "print(f\"Numerical Feature Array Shape:   {X_num.shape}\")\n",
    "print(f\"Categorical Feature Array Shape: {X_cat.shape}\")\n",
    "print(f\"Label Array Shape:               {y.shape}\")"
   ]
  },
  {
   "cell_type": "markdown",
   "id": "47445500",
   "metadata": {},
   "source": [
    "Encode the categorical variables with one-hot encoding."
   ]
  },
  {
   "cell_type": "code",
   "execution_count": 14,
   "id": "17720dd9",
   "metadata": {},
   "outputs": [
    {
     "name": "stdout",
     "output_type": "stream",
     "text": [
      "Encoded Feature Array Shape: (15120, 4)\n"
     ]
    }
   ],
   "source": [
    "encoder = OneHotEncoder(sparse=False)\n",
    "encoder.fit(X_cat)\n",
    "X_enc = encoder.transform(X_cat)\n",
    "print(f\"Encoded Feature Array Shape: {X_enc.shape}\")"
   ]
  },
  {
   "cell_type": "markdown",
   "id": "660ad1a9",
   "metadata": {},
   "source": [
    "Combine the numerical features with the encoded features."
   ]
  },
  {
   "cell_type": "code",
   "execution_count": 15,
   "id": "429f957d",
   "metadata": {},
   "outputs": [
    {
     "name": "stdout",
     "output_type": "stream",
     "text": [
      "Feature Array Shape: (15120, 16)\n"
     ]
    }
   ],
   "source": [
    "X = np.hstack((X_num, X_enc))\n",
    "print(f\"Feature Array Shape: {X.shape}\")"
   ]
  },
  {
   "cell_type": "markdown",
   "id": "644a3375",
   "metadata": {},
   "source": [
    "Split the data into training, validation, and test sets, using a 70/15/15\n",
    "split."
   ]
  },
  {
   "cell_type": "code",
   "execution_count": 16,
   "id": "fbb0fd3f",
   "metadata": {},
   "outputs": [
    {
     "name": "stdout",
     "output_type": "stream",
     "text": [
      "Training Features Shape:   (10584, 16)\n",
      "Validation Features Shape: (2268, 16)\n",
      "Test Features Shape:       (2268, 16)\n"
     ]
    }
   ],
   "source": [
    "X_train, X_hold, y_train, y_hold = train_test_split(\n",
    "    X,\n",
    "    y,\n",
    "    test_size=0.3,\n",
    "    random_state=1,\n",
    "    stratify=y\n",
    ")\n",
    "X_valid, X_test, y_valid, y_test = train_test_split(\n",
    "    X_hold,\n",
    "    y_hold,\n",
    "    test_size=0.5,\n",
    "    random_state=1,\n",
    "    stratify=y_hold\n",
    ")\n",
    "print(f'Training Features Shape:   {X_train.shape}')\n",
    "print(f'Validation Features Shape: {X_valid.shape}')\n",
    "print(f'Test Features Shape:       {X_test.shape}')"
   ]
  },
  {
   "cell_type": "markdown",
   "id": "8d664926",
   "metadata": {},
   "source": [
    "## Part 6: Logistic Regression Model\n",
    "In this section, I create and evaluate a logistic regression model. With a little time to spare, I came back and greatly increased the max_iter value to see if I could get close to the decision tree's accuracy of 1.000. This run takes about a minute and still doesn't converge, while the decision tree shows a perfect model with a depth of only 5."
   ]
  },
  {
   "cell_type": "code",
   "execution_count": 17,
   "id": "da87c35c",
   "metadata": {
    "scrolled": true
   },
   "outputs": [
    {
     "name": "stdout",
     "output_type": "stream",
     "text": [
      "Training Accuracy:   0.9828\n",
      "Validation Accuracy: 0.9877\n"
     ]
    },
    {
     "name": "stderr",
     "output_type": "stream",
     "text": [
      "/Users/seankilfoy/opt/anaconda3/lib/python3.9/site-packages/sklearn/linear_model/_logistic.py:814: ConvergenceWarning: lbfgs failed to converge (status=1):\n",
      "STOP: TOTAL NO. of f AND g EVALUATIONS EXCEEDS LIMIT.\n",
      "\n",
      "Increase the number of iterations (max_iter) or scale the data as shown in:\n",
      "    https://scikit-learn.org/stable/modules/preprocessing.html\n",
      "Please also refer to the documentation for alternative solver options:\n",
      "    https://scikit-learn.org/stable/modules/linear_model.html#logistic-regression\n",
      "  n_iter_i = _check_optimize_result(\n"
     ]
    }
   ],
   "source": [
    "lr_mod = LogisticRegression(\n",
    "    penalty='none',\n",
    "    solver='lbfgs',\n",
    "    max_iter=28888,\n",
    "    multi_class='multinomial'\n",
    ")\n",
    "lr_mod.fit(X_train, y_train)\n",
    "train_acc = lr_mod.score(X_train, y_train)\n",
    "val_acc = lr_mod.score(X_valid, y_valid)\n",
    "print(f\"Training Accuracy:   {train_acc:.4f}\")\n",
    "print(f\"Validation Accuracy: {val_acc:.4f}\")"
   ]
  },
  {
   "cell_type": "markdown",
   "id": "cbaa50b9",
   "metadata": {},
   "source": [
    "## Part 7: Decision Tree Models\n",
    "In this part, I will create and evaluate several decision tree models. "
   ]
  },
  {
   "cell_type": "code",
   "execution_count": 18,
   "id": "858b252b",
   "metadata": {},
   "outputs": [
    {
     "name": "stdout",
     "output_type": "stream",
     "text": [
      "Optimal value for max_depth:           5\n",
      "Training Accuracy for Optimal Model:   1.0000\n",
      "Validation Accuracy for Optimal Model: 1.0000\n"
     ]
    }
   ],
   "source": [
    "dt_train_acc = []\n",
    "dt_valid_acc = []\n",
    "depth_range = range(2, 31)\n",
    "for depth in depth_range:\n",
    "    np.random.seed(1)\n",
    "    temp_tree = DecisionTreeClassifier(max_depth=depth)\n",
    "    temp_tree.fit(X_train, y_train)\n",
    "    dt_train_acc.append(temp_tree.score(X_train, y_train))\n",
    "    dt_valid_acc.append(temp_tree.score(X_valid, y_valid))\n",
    "dt_idx = np.argmax(dt_valid_acc)\n",
    "dt_opt_depth = depth_range[dt_idx]\n",
    "dt_opt_train_acc = dt_train_acc[dt_idx]\n",
    "dt_opt_valid_acc = dt_valid_acc[dt_idx]\n",
    "print(f\"Optimal value for max_depth:           {dt_opt_depth}\")\n",
    "print(f\"Training Accuracy for Optimal Model:   {dt_opt_train_acc:.4f}\")\n",
    "print(f\"Validation Accuracy for Optimal Model: {dt_opt_valid_acc:.4f}\")"
   ]
  },
  {
   "cell_type": "markdown",
   "id": "f8dadc44",
   "metadata": {},
   "source": [
    "Below is a plot of the training and validation curves."
   ]
  },
  {
   "cell_type": "code",
   "execution_count": 19,
   "id": "b40db0c5",
   "metadata": {},
   "outputs": [
    {
     "data": {
      "image/png": "[encoded data removed]",
      "text/plain": [
       "<Figure size 800x600 with 1 Axes>"
      ]
     },
     "metadata": {},
     "output_type": "display_data"
    }
   ],
   "source": [
    "plt.figure(figsize=(8, 6))\n",
    "plt.plot(depth_range, dt_train_acc, label=\"Training\")\n",
    "plt.plot(depth_range, dt_valid_acc, label=\"Validation\")\n",
    "plt.xlabel(\"Max Depth\")\n",
    "plt.ylabel(\"Accuracy\")\n",
    "plt.legend()\n",
    "plt.show()"
   ]
  },
  {
   "cell_type": "markdown",
   "id": "43aff722",
   "metadata": {},
   "source": [
    "## Part 8: Random Forest Models\n",
    "In this part, I will create and evaluate several random forest models. "
   ]
  },
  {
   "cell_type": "code",
   "execution_count": 20,
   "id": "71d62451",
   "metadata": {},
   "outputs": [
    {
     "name": "stdout",
     "output_type": "stream",
     "text": [
      "Optimal value for max_depth:           10\n",
      "Training Accuracy for Optimal Model:   1.0000\n",
      "Validation Accuracy for Optimal Model: 0.9996\n"
     ]
    }
   ],
   "source": [
    "rf_train_acc = []\n",
    "rf_valid_acc = []\n",
    "for depth in depth_range:\n",
    "    np.random.seed(1)\n",
    "    temp_forest = RandomForestClassifier(\n",
    "        max_depth=depth,\n",
    "        n_estimators=100\n",
    "    )\n",
    "    temp_forest.fit(X_train, y_train)\n",
    "    rf_train_acc.append(temp_forest.score(X_train, y_train))\n",
    "    rf_valid_acc.append(temp_forest.score(X_valid, y_valid))\n",
    "rf_idx = np.argmax(rf_valid_acc)\n",
    "rf_opt_depth = depth_range[rf_idx]\n",
    "rf_opt_train_acc = rf_train_acc[rf_idx]\n",
    "rf_opt_valid_acc = rf_valid_acc[rf_idx]\n",
    "print(f\"Optimal value for max_depth:           {rf_opt_depth}\")\n",
    "print(f\"Training Accuracy for Optimal Model:   {rf_opt_train_acc:.4f}\")\n",
    "print(f\"Validation Accuracy for Optimal Model: {rf_opt_valid_acc:.4f}\")"
   ]
  },
  {
   "cell_type": "markdown",
   "id": "ee0aa2e7",
   "metadata": {},
   "source": [
    "Below is a plot of the above accuracy data."
   ]
  },
  {
   "cell_type": "code",
   "execution_count": 21,
   "id": "1870b1eb",
   "metadata": {},
   "outputs": [
    {
     "data": {
      "image/png": "[encoded data removed]",
      "text/plain": [
       "<Figure size 640x480 with 1 Axes>"
      ]
     },
     "metadata": {},
     "output_type": "display_data"
    }
   ],
   "source": [
    "plt.plot(depth_range, rf_train_acc, label='Training')\n",
    "plt.plot(depth_range, rf_valid_acc, label='Validation')\n",
    "plt.xlabel('Max Depth')\n",
    "plt.ylabel('Accuracy')\n",
    "plt.legend()\n",
    "plt.show()"
   ]
  },
  {
   "cell_type": "markdown",
   "id": "3e53a91e",
   "metadata": {},
   "source": [
    "## Part 9: Create and Evaluate Final Model\n",
    "Since the decision tree model gave me the best performance on the validation set (1.000), I will use it for my final model and evaluate it on the test set."
   ]
  },
  {
   "cell_type": "code",
   "execution_count": 22,
   "id": "8ac06ad1",
   "metadata": {},
   "outputs": [
    {
     "name": "stdout",
     "output_type": "stream",
     "text": [
      "Training Accuracy for Final Model:   1.0000\n",
      "Validation Accuracy for Final Model: 1.0000\n",
      "Testing Accuracy for Final Model:    1.0000\n"
     ]
    }
   ],
   "source": [
    "np.random.seed(1)\n",
    "final_model = DecisionTreeClassifier(max_depth=5)\n",
    "final_model.fit(X_train, y_train)\n",
    "train_acc = final_model.score(X_train, y_train)\n",
    "valid_acc = final_model.score(X_valid, y_valid)\n",
    "test_acc = final_model.score(X_test, y_test)\n",
    "print(f\"Training Accuracy for Final Model:   {train_acc:.4f}\")\n",
    "print(f\"Validation Accuracy for Final Model: {valid_acc:.4f}\")\n",
    "print(f\"Testing Accuracy for Final Model:    {test_acc:.4f}\")"
   ]
  },
  {
   "cell_type": "markdown",
   "id": "a9357677",
   "metadata": {},
   "source": [
    "Following is a confusion matrix detailing the model's performance on the test set."
   ]
  },
  {
   "cell_type": "code",
   "execution_count": 23,
   "id": "35e9f2a5",
   "metadata": {},
   "outputs": [
    {
     "name": "stdout",
     "output_type": "stream",
     "text": [
      "Confusion Matrix:\n",
      "-----------------\n"
     ]
    },
    {
     "data": {
      "text/html": [
       "<div>\n",
       "<style scoped>\n",
       "    .dataframe tbody tr th:only-of-type {\n",
       "        vertical-align: middle;\n",
       "    }\n",
       "\n",
       "    .dataframe tbody tr th {\n",
       "        vertical-align: top;\n",
       "    }\n",
       "\n",
       "    .dataframe thead th {\n",
       "        text-align: right;\n",
       "    }\n",
       "</style>\n",
       "<table border=\"1\" class=\"dataframe\">\n",
       "  <thead>\n",
       "    <tr style=\"text-align: right;\">\n",
       "      <th></th>\n",
       "      <th>1</th>\n",
       "      <th>2</th>\n",
       "      <th>3</th>\n",
       "      <th>4</th>\n",
       "      <th>5</th>\n",
       "      <th>6</th>\n",
       "      <th>7</th>\n",
       "    </tr>\n",
       "  </thead>\n",
       "  <tbody>\n",
       "    <tr>\n",
       "      <th>1</th>\n",
       "      <td>324</td>\n",
       "      <td>0</td>\n",
       "      <td>0</td>\n",
       "      <td>0</td>\n",
       "      <td>0</td>\n",
       "      <td>0</td>\n",
       "      <td>0</td>\n",
       "    </tr>\n",
       "    <tr>\n",
       "      <th>2</th>\n",
       "      <td>0</td>\n",
       "      <td>324</td>\n",
       "      <td>0</td>\n",
       "      <td>0</td>\n",
       "      <td>0</td>\n",
       "      <td>0</td>\n",
       "      <td>0</td>\n",
       "    </tr>\n",
       "    <tr>\n",
       "      <th>3</th>\n",
       "      <td>0</td>\n",
       "      <td>0</td>\n",
       "      <td>324</td>\n",
       "      <td>0</td>\n",
       "      <td>0</td>\n",
       "      <td>0</td>\n",
       "      <td>0</td>\n",
       "    </tr>\n",
       "    <tr>\n",
       "      <th>4</th>\n",
       "      <td>0</td>\n",
       "      <td>0</td>\n",
       "      <td>0</td>\n",
       "      <td>324</td>\n",
       "      <td>0</td>\n",
       "      <td>0</td>\n",
       "      <td>0</td>\n",
       "    </tr>\n",
       "    <tr>\n",
       "      <th>5</th>\n",
       "      <td>0</td>\n",
       "      <td>0</td>\n",
       "      <td>0</td>\n",
       "      <td>0</td>\n",
       "      <td>324</td>\n",
       "      <td>0</td>\n",
       "      <td>0</td>\n",
       "    </tr>\n",
       "    <tr>\n",
       "      <th>6</th>\n",
       "      <td>0</td>\n",
       "      <td>0</td>\n",
       "      <td>0</td>\n",
       "      <td>0</td>\n",
       "      <td>0</td>\n",
       "      <td>324</td>\n",
       "      <td>0</td>\n",
       "    </tr>\n",
       "    <tr>\n",
       "      <th>7</th>\n",
       "      <td>0</td>\n",
       "      <td>0</td>\n",
       "      <td>0</td>\n",
       "      <td>0</td>\n",
       "      <td>0</td>\n",
       "      <td>0</td>\n",
       "      <td>324</td>\n",
       "    </tr>\n",
       "  </tbody>\n",
       "</table>\n",
       "</div>"
      ],
      "text/plain": [
       "     1    2    3    4    5    6    7\n",
       "1  324    0    0    0    0    0    0\n",
       "2    0  324    0    0    0    0    0\n",
       "3    0    0  324    0    0    0    0\n",
       "4    0    0    0  324    0    0    0\n",
       "5    0    0    0    0  324    0    0\n",
       "6    0    0    0    0    0  324    0\n",
       "7    0    0    0    0    0    0  324"
      ]
     },
     "execution_count": 23,
     "metadata": {},
     "output_type": "execute_result"
    }
   ],
   "source": [
    "test_pred = final_model.predict(X_test)\n",
    "cm = confusion_matrix(y_test, test_pred)\n",
    "cm_df = pd.DataFrame(\n",
    "    cm,\n",
    "    index=range(1,8),\n",
    "    columns=range(1,8)\n",
    ")\n",
    "print(\"Confusion Matrix:\")\n",
    "print(\"-----------------\")\n",
    "cm_df"
   ]
  },
  {
   "cell_type": "markdown",
   "id": "660c81a3",
   "metadata": {},
   "source": [
    "Finally, a classification report provides further insight into the model's performance on the test set."
   ]
  },
  {
   "cell_type": "code",
   "execution_count": 24,
   "id": "2f8a7550",
   "metadata": {},
   "outputs": [
    {
     "name": "stdout",
     "output_type": "stream",
     "text": [
      "Classification Report:\n",
      "----------------------\n",
      "\n",
      "              ---------------------------------------\n",
      "              precision    recall  f1-score   support\n",
      "\n",
      "           1       1.00      1.00      1.00       324\n",
      "           2       1.00      1.00      1.00       324\n",
      "           3       1.00      1.00      1.00       324\n",
      "           4       1.00      1.00      1.00       324\n",
      "           5       1.00      1.00      1.00       324\n",
      "           6       1.00      1.00      1.00       324\n",
      "           7       1.00      1.00      1.00       324\n",
      "\n",
      "    accuracy                           1.00      2268\n",
      "   macro avg       1.00      1.00      1.00      2268\n",
      "weighted avg       1.00      1.00      1.00      2268\n",
      "\n",
      "-----------------------------------------------------\n"
     ]
    }
   ],
   "source": [
    "print(\"Classification Report:\")\n",
    "print(\"----------------------\")\n",
    "print()\n",
    "print(\"              ---------------------------------------\")\n",
    "print(classification_report(y_test, test_pred))\n",
    "print(\"-----------------------------------------------------\")"
   ]
  },
  {
   "cell_type": "code",
   "execution_count": null,
   "id": "93a115ec",
   "metadata": {},
   "outputs": [],
   "source": []
  }
 ],
 "metadata": {
  "kernelspec": {
   "display_name": "Python 3 (ipykernel)",
   "language": "python",
   "name": "python3"
  },
  "language_info": {
   "codemirror_mode": {
    "name": "ipython",
    "version": 3
   },
   "file_extension": ".py",
   "mimetype": "text/x-python",
   "name": "python",
   "nbconvert_exporter": "python",
   "pygments_lexer": "ipython3",
   "version": "3.9.13"
  }
 },
 "nbformat": 4,
 "nbformat_minor": 5
}
