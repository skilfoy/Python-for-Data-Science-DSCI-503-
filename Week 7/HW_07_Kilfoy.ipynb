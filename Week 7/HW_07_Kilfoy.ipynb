{
 "cells": [
  {
   "cell_type": "markdown",
   "id": "6c84046b",
   "metadata": {},
   "source": [
    "# DSCI 503 - Homework 07\n",
    "### Sean Kilfoy"
   ]
  },
  {
   "cell_type": "code",
   "execution_count": 1,
   "id": "6cd54f2e",
   "metadata": {},
   "outputs": [],
   "source": [
    "import numpy as np\n",
    "import pandas as pd\n",
    "import matplotlib.pyplot as plt\n",
    "\n",
    "from sklearn.linear_model import LinearRegression, LogisticRegression\n",
    "from sklearn.model_selection import train_test_split"
   ]
  },
  {
   "cell_type": "markdown",
   "id": "7384d686",
   "metadata": {},
   "source": [
    "## Problem 1: NYC Restaurants Dataset"
   ]
  },
  {
   "cell_type": "code",
   "execution_count": 2,
   "id": "8a1751fe",
   "metadata": {},
   "outputs": [
    {
     "data": {
      "text/html": [
       "<div>\n",
       "<style scoped>\n",
       "    .dataframe tbody tr th:only-of-type {\n",
       "        vertical-align: middle;\n",
       "    }\n",
       "\n",
       "    .dataframe tbody tr th {\n",
       "        vertical-align: top;\n",
       "    }\n",
       "\n",
       "    .dataframe thead th {\n",
       "        text-align: right;\n",
       "    }\n",
       "</style>\n",
       "<table border=\"1\" class=\"dataframe\">\n",
       "  <thead>\n",
       "    <tr style=\"text-align: right;\">\n",
       "      <th></th>\n",
       "      <th>Price</th>\n",
       "      <th>Food</th>\n",
       "      <th>Decor</th>\n",
       "      <th>Service</th>\n",
       "      <th>Wait</th>\n",
       "      <th>East</th>\n",
       "    </tr>\n",
       "  </thead>\n",
       "  <tbody>\n",
       "    <tr>\n",
       "      <th>0</th>\n",
       "      <td>43</td>\n",
       "      <td>22</td>\n",
       "      <td>18</td>\n",
       "      <td>20</td>\n",
       "      <td>36</td>\n",
       "      <td>0</td>\n",
       "    </tr>\n",
       "    <tr>\n",
       "      <th>1</th>\n",
       "      <td>32</td>\n",
       "      <td>20</td>\n",
       "      <td>19</td>\n",
       "      <td>19</td>\n",
       "      <td>22</td>\n",
       "      <td>0</td>\n",
       "    </tr>\n",
       "    <tr>\n",
       "      <th>2</th>\n",
       "      <td>34</td>\n",
       "      <td>21</td>\n",
       "      <td>13</td>\n",
       "      <td>18</td>\n",
       "      <td>20</td>\n",
       "      <td>0</td>\n",
       "    </tr>\n",
       "    <tr>\n",
       "      <th>3</th>\n",
       "      <td>41</td>\n",
       "      <td>20</td>\n",
       "      <td>20</td>\n",
       "      <td>17</td>\n",
       "      <td>25</td>\n",
       "      <td>0</td>\n",
       "    </tr>\n",
       "    <tr>\n",
       "      <th>4</th>\n",
       "      <td>54</td>\n",
       "      <td>24</td>\n",
       "      <td>19</td>\n",
       "      <td>21</td>\n",
       "      <td>32</td>\n",
       "      <td>0</td>\n",
       "    </tr>\n",
       "    <tr>\n",
       "      <th>5</th>\n",
       "      <td>52</td>\n",
       "      <td>22</td>\n",
       "      <td>22</td>\n",
       "      <td>21</td>\n",
       "      <td>15</td>\n",
       "      <td>0</td>\n",
       "    </tr>\n",
       "    <tr>\n",
       "      <th>6</th>\n",
       "      <td>34</td>\n",
       "      <td>22</td>\n",
       "      <td>16</td>\n",
       "      <td>21</td>\n",
       "      <td>25</td>\n",
       "      <td>0</td>\n",
       "    </tr>\n",
       "    <tr>\n",
       "      <th>7</th>\n",
       "      <td>34</td>\n",
       "      <td>20</td>\n",
       "      <td>18</td>\n",
       "      <td>21</td>\n",
       "      <td>21</td>\n",
       "      <td>1</td>\n",
       "    </tr>\n",
       "    <tr>\n",
       "      <th>8</th>\n",
       "      <td>39</td>\n",
       "      <td>22</td>\n",
       "      <td>19</td>\n",
       "      <td>22</td>\n",
       "      <td>23</td>\n",
       "      <td>1</td>\n",
       "    </tr>\n",
       "    <tr>\n",
       "      <th>9</th>\n",
       "      <td>44</td>\n",
       "      <td>21</td>\n",
       "      <td>17</td>\n",
       "      <td>19</td>\n",
       "      <td>27</td>\n",
       "      <td>1</td>\n",
       "    </tr>\n",
       "  </tbody>\n",
       "</table>\n",
       "</div>"
      ],
      "text/plain": [
       "   Price  Food  Decor  Service  Wait  East\n",
       "0     43    22     18       20    36     0\n",
       "1     32    20     19       19    22     0\n",
       "2     34    21     13       18    20     0\n",
       "3     41    20     20       17    25     0\n",
       "4     54    24     19       21    32     0\n",
       "5     52    22     22       21    15     0\n",
       "6     34    22     16       21    25     0\n",
       "7     34    20     18       21    21     1\n",
       "8     39    22     19       22    23     1\n",
       "9     44    21     17       19    27     1"
      ]
     },
     "execution_count": 2,
     "metadata": {},
     "output_type": "execute_result"
    }
   ],
   "source": [
    "nyc = pd.read_csv('nyc.txt', sep='\\t')\n",
    "\n",
    "nyc.head(10)"
   ]
  },
  {
   "cell_type": "code",
   "execution_count": 3,
   "id": "78f64b81",
   "metadata": {},
   "outputs": [
    {
     "name": "stdout",
     "output_type": "stream",
     "text": [
      "Training Features Shape:  (134, 5)\n",
      "Test Features Shape:      (34, 5)\n"
     ]
    }
   ],
   "source": [
    "X1 = nyc.iloc[:, 1:].values\n",
    "y1 = nyc.iloc[:, 0].values\n",
    "\n",
    "X_train_1, X_test_1, y_train_1, y_test_1 = train_test_split(X1, y1, test_size=0.2, random_state=1)\n",
    "\n",
    "print(\"Training Features Shape: \", X_train_1.shape)\n",
    "print(\"Test Features Shape:     \", X_test_1.shape)\n"
   ]
  },
  {
   "cell_type": "code",
   "execution_count": 4,
   "id": "a71cd6b2",
   "metadata": {},
   "outputs": [
    {
     "name": "stdout",
     "output_type": "stream",
     "text": [
      "Intercept:    -23.7554\n",
      "Coefficients: [ 1.5569  2.007  -0.2544  0.092   2.6324]\n"
     ]
    }
   ],
   "source": [
    "nyc_mod = LinearRegression()\n",
    "nyc_mod.fit(X_train_1, y_train_1)\n",
    "\n",
    "print(\"Intercept:   \", np.round(nyc_mod.intercept_, 4))\n",
    "print(\"Coefficients:\", np.round(nyc_mod.coef_, 4))"
   ]
  },
  {
   "cell_type": "code",
   "execution_count": 5,
   "id": "a5edf303",
   "metadata": {},
   "outputs": [
    {
     "name": "stdout",
     "output_type": "stream",
     "text": [
      "Training r-Squared: 0.6306\n",
      "Testing r-Squared:  0.6245\n"
     ]
    }
   ],
   "source": [
    "train_r2 = nyc_mod.score(X_train_1, y_train_1)\n",
    "test_r2 = nyc_mod.score(X_test_1, y_test_1)\n",
    "\n",
    "print(\"Training r-Squared:\", np.round(train_r2, 4))\n",
    "print(\"Testing r-Squared: \", np.round(test_r2, 4))"
   ]
  },
  {
   "cell_type": "code",
   "execution_count": 6,
   "id": "108b242d",
   "metadata": {},
   "outputs": [
    {
     "name": "stdout",
     "output_type": "stream",
     "text": [
      "Observed Prices:  [33 45 54 38 22 47 38 51 46 47]\n",
      "Estimated Prices: [39.2  38.09 49.35 39.26 19.72 47.4  36.85 50.07 48.26 43.01]\n"
     ]
    }
   ],
   "source": [
    "test_pred_1 = nyc_mod.predict(X_test_1)\n",
    "\n",
    "print(\"Observed Prices: \", y_test_1[:10])\n",
    "print(\"Estimated Prices:\", np.round(test_pred_1[:10], 2))"
   ]
  },
  {
   "cell_type": "code",
   "execution_count": 7,
   "id": "2bb7bf74",
   "metadata": {},
   "outputs": [
    {
     "name": "stdout",
     "output_type": "stream",
     "text": [
      "Estimated Prices: [30.87 42.57 58.06]\n"
     ]
    }
   ],
   "source": [
    "nyc_new = pd.DataFrame({'Food': [22, 18, 25], 'Decor': [12, 19, 22], 'Service': [20, 22, 18], 'Wait': [15, 34, 36], 'East': [0, 1, 0]}).values\n",
    "new_pred_1 = nyc_mod.predict(nyc_new)\n",
    "print(\"Estimated Prices:\", np.round(new_pred_1, 2))\n"
   ]
  },
  {
   "cell_type": "markdown",
   "id": "ddd7aff3",
   "metadata": {},
   "source": [
    "## Problem 2: Diamonds Dataset"
   ]
  },
  {
   "cell_type": "code",
   "execution_count": 8,
   "id": "ffef8c8a",
   "metadata": {},
   "outputs": [
    {
     "data": {
      "text/html": [
       "<div>\n",
       "<style scoped>\n",
       "    .dataframe tbody tr th:only-of-type {\n",
       "        vertical-align: middle;\n",
       "    }\n",
       "\n",
       "    .dataframe tbody tr th {\n",
       "        vertical-align: top;\n",
       "    }\n",
       "\n",
       "    .dataframe thead th {\n",
       "        text-align: right;\n",
       "    }\n",
       "</style>\n",
       "<table border=\"1\" class=\"dataframe\">\n",
       "  <thead>\n",
       "    <tr style=\"text-align: right;\">\n",
       "      <th></th>\n",
       "      <th>carat</th>\n",
       "      <th>cut</th>\n",
       "      <th>color</th>\n",
       "      <th>clarity</th>\n",
       "      <th>depth</th>\n",
       "      <th>table</th>\n",
       "      <th>price</th>\n",
       "      <th>x</th>\n",
       "      <th>y</th>\n",
       "      <th>z</th>\n",
       "    </tr>\n",
       "  </thead>\n",
       "  <tbody>\n",
       "    <tr>\n",
       "      <th>1</th>\n",
       "      <td>0.23</td>\n",
       "      <td>Ideal</td>\n",
       "      <td>E</td>\n",
       "      <td>SI2</td>\n",
       "      <td>61.5</td>\n",
       "      <td>55.0</td>\n",
       "      <td>326</td>\n",
       "      <td>3.95</td>\n",
       "      <td>3.98</td>\n",
       "      <td>2.43</td>\n",
       "    </tr>\n",
       "    <tr>\n",
       "      <th>2</th>\n",
       "      <td>0.21</td>\n",
       "      <td>Premium</td>\n",
       "      <td>E</td>\n",
       "      <td>SI1</td>\n",
       "      <td>59.8</td>\n",
       "      <td>61.0</td>\n",
       "      <td>326</td>\n",
       "      <td>3.89</td>\n",
       "      <td>3.84</td>\n",
       "      <td>2.31</td>\n",
       "    </tr>\n",
       "    <tr>\n",
       "      <th>3</th>\n",
       "      <td>0.23</td>\n",
       "      <td>Good</td>\n",
       "      <td>E</td>\n",
       "      <td>VS1</td>\n",
       "      <td>56.9</td>\n",
       "      <td>65.0</td>\n",
       "      <td>327</td>\n",
       "      <td>4.05</td>\n",
       "      <td>4.07</td>\n",
       "      <td>2.31</td>\n",
       "    </tr>\n",
       "    <tr>\n",
       "      <th>4</th>\n",
       "      <td>0.29</td>\n",
       "      <td>Premium</td>\n",
       "      <td>I</td>\n",
       "      <td>VS2</td>\n",
       "      <td>62.4</td>\n",
       "      <td>58.0</td>\n",
       "      <td>334</td>\n",
       "      <td>4.20</td>\n",
       "      <td>4.23</td>\n",
       "      <td>2.63</td>\n",
       "    </tr>\n",
       "    <tr>\n",
       "      <th>5</th>\n",
       "      <td>0.31</td>\n",
       "      <td>Good</td>\n",
       "      <td>J</td>\n",
       "      <td>SI2</td>\n",
       "      <td>63.3</td>\n",
       "      <td>58.0</td>\n",
       "      <td>335</td>\n",
       "      <td>4.34</td>\n",
       "      <td>4.35</td>\n",
       "      <td>2.75</td>\n",
       "    </tr>\n",
       "  </tbody>\n",
       "</table>\n",
       "</div>"
      ],
      "text/plain": [
       "   carat      cut color clarity  depth  table  price     x     y     z\n",
       "1   0.23    Ideal     E     SI2   61.5   55.0    326  3.95  3.98  2.43\n",
       "2   0.21  Premium     E     SI1   59.8   61.0    326  3.89  3.84  2.31\n",
       "3   0.23     Good     E     VS1   56.9   65.0    327  4.05  4.07  2.31\n",
       "4   0.29  Premium     I     VS2   62.4   58.0    334  4.20  4.23  2.63\n",
       "5   0.31     Good     J     SI2   63.3   58.0    335  4.34  4.35  2.75"
      ]
     },
     "execution_count": 8,
     "metadata": {},
     "output_type": "execute_result"
    }
   ],
   "source": [
    "diamonds = pd.read_csv('diamonds.txt', sep='\\t')\n",
    "\n",
    "diamonds.head()"
   ]
  },
  {
   "cell_type": "code",
   "execution_count": 9,
   "id": "a2578166",
   "metadata": {},
   "outputs": [
    {
     "data": {
      "text/html": [
       "<div>\n",
       "<style scoped>\n",
       "    .dataframe tbody tr th:only-of-type {\n",
       "        vertical-align: middle;\n",
       "    }\n",
       "\n",
       "    .dataframe tbody tr th {\n",
       "        vertical-align: top;\n",
       "    }\n",
       "\n",
       "    .dataframe thead th {\n",
       "        text-align: right;\n",
       "    }\n",
       "</style>\n",
       "<table border=\"1\" class=\"dataframe\">\n",
       "  <thead>\n",
       "    <tr style=\"text-align: right;\">\n",
       "      <th></th>\n",
       "      <th>carat</th>\n",
       "      <th>cut</th>\n",
       "      <th>color</th>\n",
       "      <th>clarity</th>\n",
       "      <th>depth</th>\n",
       "      <th>table</th>\n",
       "      <th>price</th>\n",
       "      <th>x</th>\n",
       "      <th>y</th>\n",
       "      <th>z</th>\n",
       "      <th>ln_carat</th>\n",
       "      <th>ln_price</th>\n",
       "    </tr>\n",
       "  </thead>\n",
       "  <tbody>\n",
       "    <tr>\n",
       "      <th>1</th>\n",
       "      <td>0.23</td>\n",
       "      <td>Ideal</td>\n",
       "      <td>E</td>\n",
       "      <td>SI2</td>\n",
       "      <td>61.5</td>\n",
       "      <td>55.0</td>\n",
       "      <td>326</td>\n",
       "      <td>3.95</td>\n",
       "      <td>3.98</td>\n",
       "      <td>2.43</td>\n",
       "      <td>-1.469676</td>\n",
       "      <td>5.786897</td>\n",
       "    </tr>\n",
       "    <tr>\n",
       "      <th>2</th>\n",
       "      <td>0.21</td>\n",
       "      <td>Premium</td>\n",
       "      <td>E</td>\n",
       "      <td>SI1</td>\n",
       "      <td>59.8</td>\n",
       "      <td>61.0</td>\n",
       "      <td>326</td>\n",
       "      <td>3.89</td>\n",
       "      <td>3.84</td>\n",
       "      <td>2.31</td>\n",
       "      <td>-1.560648</td>\n",
       "      <td>5.786897</td>\n",
       "    </tr>\n",
       "    <tr>\n",
       "      <th>3</th>\n",
       "      <td>0.23</td>\n",
       "      <td>Good</td>\n",
       "      <td>E</td>\n",
       "      <td>VS1</td>\n",
       "      <td>56.9</td>\n",
       "      <td>65.0</td>\n",
       "      <td>327</td>\n",
       "      <td>4.05</td>\n",
       "      <td>4.07</td>\n",
       "      <td>2.31</td>\n",
       "      <td>-1.469676</td>\n",
       "      <td>5.789960</td>\n",
       "    </tr>\n",
       "    <tr>\n",
       "      <th>4</th>\n",
       "      <td>0.29</td>\n",
       "      <td>Premium</td>\n",
       "      <td>I</td>\n",
       "      <td>VS2</td>\n",
       "      <td>62.4</td>\n",
       "      <td>58.0</td>\n",
       "      <td>334</td>\n",
       "      <td>4.20</td>\n",
       "      <td>4.23</td>\n",
       "      <td>2.63</td>\n",
       "      <td>-1.237874</td>\n",
       "      <td>5.811141</td>\n",
       "    </tr>\n",
       "    <tr>\n",
       "      <th>5</th>\n",
       "      <td>0.31</td>\n",
       "      <td>Good</td>\n",
       "      <td>J</td>\n",
       "      <td>SI2</td>\n",
       "      <td>63.3</td>\n",
       "      <td>58.0</td>\n",
       "      <td>335</td>\n",
       "      <td>4.34</td>\n",
       "      <td>4.35</td>\n",
       "      <td>2.75</td>\n",
       "      <td>-1.171183</td>\n",
       "      <td>5.814131</td>\n",
       "    </tr>\n",
       "  </tbody>\n",
       "</table>\n",
       "</div>"
      ],
      "text/plain": [
       "   carat      cut color clarity  depth  table  price     x     y     z  \\\n",
       "1   0.23    Ideal     E     SI2   61.5   55.0    326  3.95  3.98  2.43   \n",
       "2   0.21  Premium     E     SI1   59.8   61.0    326  3.89  3.84  2.31   \n",
       "3   0.23     Good     E     VS1   56.9   65.0    327  4.05  4.07  2.31   \n",
       "4   0.29  Premium     I     VS2   62.4   58.0    334  4.20  4.23  2.63   \n",
       "5   0.31     Good     J     SI2   63.3   58.0    335  4.34  4.35  2.75   \n",
       "\n",
       "   ln_carat  ln_price  \n",
       "1 -1.469676  5.786897  \n",
       "2 -1.560648  5.786897  \n",
       "3 -1.469676  5.789960  \n",
       "4 -1.237874  5.811141  \n",
       "5 -1.171183  5.814131  "
      ]
     },
     "execution_count": 9,
     "metadata": {},
     "output_type": "execute_result"
    }
   ],
   "source": [
    "diamonds['ln_carat'] = np.log(diamonds['carat'])\n",
    "diamonds['ln_price'] = np.log(diamonds['price'])\n",
    "\n",
    "diamonds.head()"
   ]
  },
  {
   "cell_type": "code",
   "execution_count": 10,
   "id": "cea7bb3a",
   "metadata": {},
   "outputs": [
    {
     "data": {
      "image/png": "[encoded data removed]",
      "text/plain": [
       "<Figure size 1000x400 with 2 Axes>"
      ]
     },
     "metadata": {},
     "output_type": "display_data"
    }
   ],
   "source": [
    "fig, axs = plt.subplots(1, 2, figsize=[10,4])\n",
    "fig.suptitle('Relationship between Price and Carat Size and Log-Price and Log-Carat Size')\n",
    "axs[0].scatter(diamonds['carat'],\n",
    "               diamonds['price'],\n",
    "               s=20,\n",
    "               alpha=0.2,\n",
    "               c='forestgreen')\n",
    "axs[0].set_xlabel('Carat Size')\n",
    "axs[0].set_ylabel('Price')\n",
    "axs[1].scatter(diamonds['ln_carat'],\n",
    "               diamonds['ln_price'],\n",
    "               s=20,\n",
    "               alpha=0.2,\n",
    "               c='seagreen')\n",
    "axs[1].set_xlabel('Natural Log of Carat Size')\n",
    "axs[1].set_ylabel('Natural Log of Price')\n",
    "plt.tight_layout()\n",
    "plt.show()"
   ]
  },
  {
   "cell_type": "code",
   "execution_count": 11,
   "id": "a71c2fc3",
   "metadata": {},
   "outputs": [
    {
     "name": "stdout",
     "output_type": "stream",
     "text": [
      "Training Features Shape: (48546, 1)\n",
      "Test Features Shape:     (5394, 1)\n"
     ]
    }
   ],
   "source": [
    "X2 = diamonds[['ln_carat']].values\n",
    "y2 = diamonds['ln_price'].values\n",
    "\n",
    "X_train_2, X_test_2, y_train_2, y_test_2 = train_test_split(X2, y2, test_size=0.1, random_state=1)\n",
    "\n",
    "print(\"Training Features Shape:\", X_train_2.shape)\n",
    "print(\"Test Features Shape:    \", X_test_2.shape)\n"
   ]
  },
  {
   "cell_type": "code",
   "execution_count": 12,
   "id": "9a796b73",
   "metadata": {},
   "outputs": [
    {
     "name": "stdout",
     "output_type": "stream",
     "text": [
      "Intercept:     8.4483\n",
      "Coefficients: [1.6749]\n"
     ]
    }
   ],
   "source": [
    "dia_mod = LinearRegression()\n",
    "dia_mod.fit(X_train_2, y_train_2)\n",
    "\n",
    "print(\"Intercept:    \", dia_mod.intercept_.round(4))\n",
    "print(\"Coefficients:\", dia_mod.coef_.round(4))"
   ]
  },
  {
   "cell_type": "code",
   "execution_count": 13,
   "id": "b294583e",
   "metadata": {},
   "outputs": [
    {
     "name": "stdout",
     "output_type": "stream",
     "text": [
      "Training r-Squared: 0.933005\n",
      "Testing r-Squared:  0.932825\n"
     ]
    }
   ],
   "source": [
    "train_r2 = dia_mod.score(X_train_2, y_train_2)\n",
    "test_r2 = dia_mod.score(X_test_2, y_test_2)\n",
    "\n",
    "print(\"Training r-Squared:\", train_r2.round(6))\n",
    "print(\"Testing r-Squared: \", test_r2.round(6))"
   ]
  },
  {
   "cell_type": "code",
   "execution_count": 14,
   "id": "b74a41fd",
   "metadata": {},
   "outputs": [
    {
     "name": "stdout",
     "output_type": "stream",
     "text": [
      "Observed Prices:\n",
      "[ 564. 5914. 2562.  537. 5964.  984. 5247.  611. 9645. 1162.]\n",
      "Estimated Prices:\n",
      "[ 728.7751 6333.9204 2095.6554  766.1414 6333.9204 1611.5009 5309.2351\n",
      " 1048.3085 9204.2879  804.257 ]\n"
     ]
    }
   ],
   "source": [
    "test_pred_2 = dia_mod.predict(X_test_2)\n",
    "observed_prices = np.exp(y_test_2[:10])\n",
    "estimated_prices = np.round(np.exp(test_pred_2[:10]), 4)\n",
    "print('Observed Prices:', observed_prices, sep='\\n')\n",
    "print('Estimated Prices:', estimated_prices, sep='\\n')"
   ]
  },
  {
   "cell_type": "code",
   "execution_count": 15,
   "id": "16c8d0c5",
   "metadata": {},
   "outputs": [
    {
     "name": "stdout",
     "output_type": "stream",
     "text": [
      "Estimated Prices:\n",
      "[ 1461.66  4667.13  9204.29 14902.32 21655.67 29389.67]\n"
     ]
    }
   ],
   "source": [
    "diamonds_new = np.log(np.array([0.5, 1.0, 1.5, 2.0, 2.5, 3.0]).reshape(-1,1))\n",
    "new_pred_2 = dia_mod.predict(diamonds_new)\n",
    "predicted_prices = np.round(np.exp(new_pred_2), 2)\n",
    "\n",
    "print('Estimated Prices:', predicted_prices, sep='\\n')\n"
   ]
  },
  {
   "cell_type": "markdown",
   "id": "7b4212ba",
   "metadata": {},
   "source": [
    "## Problem 3: Heart Disease Dataset"
   ]
  },
  {
   "cell_type": "code",
   "execution_count": 16,
   "id": "eba8270d",
   "metadata": {},
   "outputs": [
    {
     "data": {
      "text/html": [
       "<div>\n",
       "<style scoped>\n",
       "    .dataframe tbody tr th:only-of-type {\n",
       "        vertical-align: middle;\n",
       "    }\n",
       "\n",
       "    .dataframe tbody tr th {\n",
       "        vertical-align: top;\n",
       "    }\n",
       "\n",
       "    .dataframe thead th {\n",
       "        text-align: right;\n",
       "    }\n",
       "</style>\n",
       "<table border=\"1\" class=\"dataframe\">\n",
       "  <thead>\n",
       "    <tr style=\"text-align: right;\">\n",
       "      <th></th>\n",
       "      <th>age</th>\n",
       "      <th>sex</th>\n",
       "      <th>chest_pain_type</th>\n",
       "      <th>resting_bp</th>\n",
       "      <th>serum_chol</th>\n",
       "      <th>fasting_blood_sugar</th>\n",
       "      <th>electrocardio</th>\n",
       "      <th>max_heart_rate</th>\n",
       "      <th>exercise_induced_angina</th>\n",
       "      <th>oldpeak</th>\n",
       "      <th>slope</th>\n",
       "      <th>major_vessels</th>\n",
       "      <th>thal</th>\n",
       "      <th>heart_disease</th>\n",
       "    </tr>\n",
       "  </thead>\n",
       "  <tbody>\n",
       "    <tr>\n",
       "      <th>0</th>\n",
       "      <td>70</td>\n",
       "      <td>1</td>\n",
       "      <td>4</td>\n",
       "      <td>130</td>\n",
       "      <td>322</td>\n",
       "      <td>0</td>\n",
       "      <td>2</td>\n",
       "      <td>109</td>\n",
       "      <td>0</td>\n",
       "      <td>2.4</td>\n",
       "      <td>2</td>\n",
       "      <td>3</td>\n",
       "      <td>3</td>\n",
       "      <td>2</td>\n",
       "    </tr>\n",
       "    <tr>\n",
       "      <th>1</th>\n",
       "      <td>67</td>\n",
       "      <td>0</td>\n",
       "      <td>3</td>\n",
       "      <td>115</td>\n",
       "      <td>564</td>\n",
       "      <td>0</td>\n",
       "      <td>2</td>\n",
       "      <td>160</td>\n",
       "      <td>0</td>\n",
       "      <td>1.6</td>\n",
       "      <td>2</td>\n",
       "      <td>0</td>\n",
       "      <td>7</td>\n",
       "      <td>1</td>\n",
       "    </tr>\n",
       "    <tr>\n",
       "      <th>2</th>\n",
       "      <td>57</td>\n",
       "      <td>1</td>\n",
       "      <td>2</td>\n",
       "      <td>124</td>\n",
       "      <td>261</td>\n",
       "      <td>0</td>\n",
       "      <td>0</td>\n",
       "      <td>141</td>\n",
       "      <td>0</td>\n",
       "      <td>0.3</td>\n",
       "      <td>1</td>\n",
       "      <td>0</td>\n",
       "      <td>7</td>\n",
       "      <td>2</td>\n",
       "    </tr>\n",
       "    <tr>\n",
       "      <th>3</th>\n",
       "      <td>64</td>\n",
       "      <td>1</td>\n",
       "      <td>4</td>\n",
       "      <td>128</td>\n",
       "      <td>263</td>\n",
       "      <td>0</td>\n",
       "      <td>0</td>\n",
       "      <td>105</td>\n",
       "      <td>1</td>\n",
       "      <td>0.2</td>\n",
       "      <td>2</td>\n",
       "      <td>1</td>\n",
       "      <td>7</td>\n",
       "      <td>1</td>\n",
       "    </tr>\n",
       "    <tr>\n",
       "      <th>4</th>\n",
       "      <td>74</td>\n",
       "      <td>0</td>\n",
       "      <td>2</td>\n",
       "      <td>120</td>\n",
       "      <td>269</td>\n",
       "      <td>0</td>\n",
       "      <td>2</td>\n",
       "      <td>121</td>\n",
       "      <td>1</td>\n",
       "      <td>0.2</td>\n",
       "      <td>1</td>\n",
       "      <td>1</td>\n",
       "      <td>3</td>\n",
       "      <td>1</td>\n",
       "    </tr>\n",
       "    <tr>\n",
       "      <th>5</th>\n",
       "      <td>65</td>\n",
       "      <td>1</td>\n",
       "      <td>4</td>\n",
       "      <td>120</td>\n",
       "      <td>177</td>\n",
       "      <td>0</td>\n",
       "      <td>0</td>\n",
       "      <td>140</td>\n",
       "      <td>0</td>\n",
       "      <td>0.4</td>\n",
       "      <td>1</td>\n",
       "      <td>0</td>\n",
       "      <td>7</td>\n",
       "      <td>1</td>\n",
       "    </tr>\n",
       "    <tr>\n",
       "      <th>6</th>\n",
       "      <td>56</td>\n",
       "      <td>1</td>\n",
       "      <td>3</td>\n",
       "      <td>130</td>\n",
       "      <td>256</td>\n",
       "      <td>1</td>\n",
       "      <td>2</td>\n",
       "      <td>142</td>\n",
       "      <td>1</td>\n",
       "      <td>0.6</td>\n",
       "      <td>2</td>\n",
       "      <td>1</td>\n",
       "      <td>6</td>\n",
       "      <td>2</td>\n",
       "    </tr>\n",
       "    <tr>\n",
       "      <th>7</th>\n",
       "      <td>59</td>\n",
       "      <td>1</td>\n",
       "      <td>4</td>\n",
       "      <td>110</td>\n",
       "      <td>239</td>\n",
       "      <td>0</td>\n",
       "      <td>2</td>\n",
       "      <td>142</td>\n",
       "      <td>1</td>\n",
       "      <td>1.2</td>\n",
       "      <td>2</td>\n",
       "      <td>1</td>\n",
       "      <td>7</td>\n",
       "      <td>2</td>\n",
       "    </tr>\n",
       "    <tr>\n",
       "      <th>8</th>\n",
       "      <td>60</td>\n",
       "      <td>1</td>\n",
       "      <td>4</td>\n",
       "      <td>140</td>\n",
       "      <td>293</td>\n",
       "      <td>0</td>\n",
       "      <td>2</td>\n",
       "      <td>170</td>\n",
       "      <td>0</td>\n",
       "      <td>1.2</td>\n",
       "      <td>2</td>\n",
       "      <td>2</td>\n",
       "      <td>7</td>\n",
       "      <td>2</td>\n",
       "    </tr>\n",
       "    <tr>\n",
       "      <th>9</th>\n",
       "      <td>63</td>\n",
       "      <td>0</td>\n",
       "      <td>4</td>\n",
       "      <td>150</td>\n",
       "      <td>407</td>\n",
       "      <td>0</td>\n",
       "      <td>2</td>\n",
       "      <td>154</td>\n",
       "      <td>0</td>\n",
       "      <td>4.0</td>\n",
       "      <td>2</td>\n",
       "      <td>3</td>\n",
       "      <td>7</td>\n",
       "      <td>2</td>\n",
       "    </tr>\n",
       "  </tbody>\n",
       "</table>\n",
       "</div>"
      ],
      "text/plain": [
       "   age  sex  chest_pain_type  resting_bp  serum_chol  fasting_blood_sugar  \\\n",
       "0   70    1                4         130         322                    0   \n",
       "1   67    0                3         115         564                    0   \n",
       "2   57    1                2         124         261                    0   \n",
       "3   64    1                4         128         263                    0   \n",
       "4   74    0                2         120         269                    0   \n",
       "5   65    1                4         120         177                    0   \n",
       "6   56    1                3         130         256                    1   \n",
       "7   59    1                4         110         239                    0   \n",
       "8   60    1                4         140         293                    0   \n",
       "9   63    0                4         150         407                    0   \n",
       "\n",
       "   electrocardio  max_heart_rate  exercise_induced_angina  oldpeak  slope  \\\n",
       "0              2             109                        0      2.4      2   \n",
       "1              2             160                        0      1.6      2   \n",
       "2              0             141                        0      0.3      1   \n",
       "3              0             105                        1      0.2      2   \n",
       "4              2             121                        1      0.2      1   \n",
       "5              0             140                        0      0.4      1   \n",
       "6              2             142                        1      0.6      2   \n",
       "7              2             142                        1      1.2      2   \n",
       "8              2             170                        0      1.2      2   \n",
       "9              2             154                        0      4.0      2   \n",
       "\n",
       "   major_vessels  thal  heart_disease  \n",
       "0              3     3              2  \n",
       "1              0     7              1  \n",
       "2              0     7              2  \n",
       "3              1     7              1  \n",
       "4              1     3              1  \n",
       "5              0     7              1  \n",
       "6              1     6              2  \n",
       "7              1     7              2  \n",
       "8              2     7              2  \n",
       "9              3     7              2  "
      ]
     },
     "execution_count": 16,
     "metadata": {},
     "output_type": "execute_result"
    }
   ],
   "source": [
    "hd = pd.read_csv('heart_disease.txt', sep='\\t')\n",
    "hd.head(10)"
   ]
  },
  {
   "cell_type": "code",
   "execution_count": 17,
   "id": "0cb6544d",
   "metadata": {},
   "outputs": [
    {
     "name": "stdout",
     "output_type": "stream",
     "text": [
      "Training Features Shape: (216, 13)\n",
      "Test Features Shape:     (54, 13)\n"
     ]
    }
   ],
   "source": [
    "X3 = hd.iloc[:, :-1].values\n",
    "y3 = hd.iloc[:, -1].values\n",
    "X_train_3, X_test_3, y_train_3, y_test_3 = train_test_split(X3, y3, test_size=0.2, random_state=1, stratify=y3)\n",
    "print(\"Training Features Shape:\", X_train_3.shape)\n",
    "print(\"Test Features Shape:    \", X_test_3.shape)\n"
   ]
  },
  {
   "cell_type": "code",
   "execution_count": 18,
   "id": "d3266bdf",
   "metadata": {},
   "outputs": [
    {
     "name": "stdout",
     "output_type": "stream",
     "text": [
      "Intercept:\t-9.801\n",
      "Coefficients:\n",
      "age:\t-0.03380696734943714\n",
      "sex:\t1.8135794836606132\n",
      "chest_pain_type:\t0.7501139928575753\n",
      "resting_bp:\t0.025143326602908554\n",
      "serum_chol:\t0.014408929996552881\n",
      "fasting_blood_sugar:\t-0.7065071138086643\n",
      "electrocardio:\t0.3243683758840213\n",
      "max_heart_rate:\t-0.019720591267573813\n",
      "exercise_induced_angina:\t0.7412642922037822\n",
      "oldpeak:\t0.3673860277923983\n",
      "slope:\t0.27433120965034274\n",
      "major_vessels:\t1.078822927028145\n",
      "thal:\t0.3829686898320993\n"
     ]
    }
   ],
   "source": [
    "hd_mod = LogisticRegression(solver='lbfgs', penalty='none', max_iter=1000)\n",
    "hd_mod.fit(X_train_3, y_train_3)\n",
    "\n",
    "print(\"Intercept:\", np.round(hd_mod.intercept_[0], 4), sep='\\t')\n",
    "print(\"Coefficients:\")\n",
    "\n",
    "for i in range(len(hd.columns)-1):\n",
    "    print(hd.columns[i], hd_mod.coef_[0][i], sep=':\\t')"
   ]
  },
  {
   "cell_type": "code",
   "execution_count": 19,
   "id": "25c8ab40",
   "metadata": {},
   "outputs": [
    {
     "name": "stdout",
     "output_type": "stream",
     "text": [
      "Training Accuracy: 0.8519\n",
      "Testing Accuracy:  0.8148\n"
     ]
    }
   ],
   "source": [
    "train_score = hd_mod.score(X_train_3, y_train_3)\n",
    "test_score = hd_mod.score(X_test_3, y_test_3)\n",
    "print(\"Training Accuracy:\", train_score.round(4))\n",
    "print(\"Testing Accuracy: \", test_score.round(4))\n"
   ]
  },
  {
   "cell_type": "code",
   "execution_count": 20,
   "id": "2a5aab10",
   "metadata": {},
   "outputs": [
    {
     "name": "stdout",
     "output_type": "stream",
     "text": [
      "Observed Labels:  [2 2 2 1 1 2 1 1 2 1 2 1 1 1 2 1 1 1 2 1]\n",
      "Predicted Labels: [2 2 2 1 1 2 1 1 2 1 2 1 1 1 2 1 1 1 2 1]\n"
     ]
    }
   ],
   "source": [
    "test_pred_3 = hd_mod.predict(X_test_3)\n",
    "print(\"Observed Labels: \", y_test_3[:20])\n",
    "print(\"Predicted Labels:\", test_pred_3[:20])"
   ]
  },
  {
   "cell_type": "code",
   "execution_count": 21,
   "id": "32a08f14",
   "metadata": {},
   "outputs": [
    {
     "data": {
      "text/html": [
       "<div>\n",
       "<style scoped>\n",
       "    .dataframe tbody tr th:only-of-type {\n",
       "        vertical-align: middle;\n",
       "    }\n",
       "\n",
       "    .dataframe tbody tr th {\n",
       "        vertical-align: top;\n",
       "    }\n",
       "\n",
       "    .dataframe thead th {\n",
       "        text-align: right;\n",
       "    }\n",
       "</style>\n",
       "<table border=\"1\" class=\"dataframe\">\n",
       "  <thead>\n",
       "    <tr style=\"text-align: right;\">\n",
       "      <th></th>\n",
       "      <th>1</th>\n",
       "      <th>2</th>\n",
       "    </tr>\n",
       "  </thead>\n",
       "  <tbody>\n",
       "    <tr>\n",
       "      <th>0</th>\n",
       "      <td>0.011588</td>\n",
       "      <td>0.988412</td>\n",
       "    </tr>\n",
       "    <tr>\n",
       "      <th>1</th>\n",
       "      <td>0.042855</td>\n",
       "      <td>0.957145</td>\n",
       "    </tr>\n",
       "    <tr>\n",
       "      <th>2</th>\n",
       "      <td>0.039705</td>\n",
       "      <td>0.960295</td>\n",
       "    </tr>\n",
       "    <tr>\n",
       "      <th>3</th>\n",
       "      <td>0.847798</td>\n",
       "      <td>0.152202</td>\n",
       "    </tr>\n",
       "    <tr>\n",
       "      <th>4</th>\n",
       "      <td>0.874299</td>\n",
       "      <td>0.125701</td>\n",
       "    </tr>\n",
       "    <tr>\n",
       "      <th>5</th>\n",
       "      <td>0.051805</td>\n",
       "      <td>0.948195</td>\n",
       "    </tr>\n",
       "    <tr>\n",
       "      <th>6</th>\n",
       "      <td>0.919850</td>\n",
       "      <td>0.080150</td>\n",
       "    </tr>\n",
       "    <tr>\n",
       "      <th>7</th>\n",
       "      <td>0.944686</td>\n",
       "      <td>0.055314</td>\n",
       "    </tr>\n",
       "    <tr>\n",
       "      <th>8</th>\n",
       "      <td>0.009846</td>\n",
       "      <td>0.990154</td>\n",
       "    </tr>\n",
       "    <tr>\n",
       "      <th>9</th>\n",
       "      <td>0.996746</td>\n",
       "      <td>0.003254</td>\n",
       "    </tr>\n",
       "  </tbody>\n",
       "</table>\n",
       "</div>"
      ],
      "text/plain": [
       "          1         2\n",
       "0  0.011588  0.988412\n",
       "1  0.042855  0.957145\n",
       "2  0.039705  0.960295\n",
       "3  0.847798  0.152202\n",
       "4  0.874299  0.125701\n",
       "5  0.051805  0.948195\n",
       "6  0.919850  0.080150\n",
       "7  0.944686  0.055314\n",
       "8  0.009846  0.990154\n",
       "9  0.996746  0.003254"
      ]
     },
     "execution_count": 21,
     "metadata": {},
     "output_type": "execute_result"
    }
   ],
   "source": [
    "test_proba_3 = hd_mod.predict_proba(X_test_3)[:10]\n",
    "test_proba_df = pd.DataFrame(test_proba_3, columns=['1', '2'])\n",
    "test_proba_df"
   ]
  },
  {
   "cell_type": "markdown",
   "id": "864e8630",
   "metadata": {},
   "source": [
    "## Problem 4: Gapminder Dataset"
   ]
  },
  {
   "cell_type": "code",
   "execution_count": 22,
   "id": "21e8ead0",
   "metadata": {
    "scrolled": true
   },
   "outputs": [
    {
     "data": {
      "text/html": [
       "<div>\n",
       "<style scoped>\n",
       "    .dataframe tbody tr th:only-of-type {\n",
       "        vertical-align: middle;\n",
       "    }\n",
       "\n",
       "    .dataframe tbody tr th {\n",
       "        vertical-align: top;\n",
       "    }\n",
       "\n",
       "    .dataframe thead th {\n",
       "        text-align: right;\n",
       "    }\n",
       "</style>\n",
       "<table border=\"1\" class=\"dataframe\">\n",
       "  <thead>\n",
       "    <tr style=\"text-align: right;\">\n",
       "      <th></th>\n",
       "      <th>country</th>\n",
       "      <th>year</th>\n",
       "      <th>continent</th>\n",
       "      <th>population</th>\n",
       "      <th>life_exp</th>\n",
       "      <th>gdp_per_cap</th>\n",
       "      <th>gini</th>\n",
       "    </tr>\n",
       "  </thead>\n",
       "  <tbody>\n",
       "    <tr>\n",
       "      <th>40112</th>\n",
       "      <td>Afghanistan</td>\n",
       "      <td>2018</td>\n",
       "      <td>asia</td>\n",
       "      <td>36400000</td>\n",
       "      <td>58.7</td>\n",
       "      <td>1870</td>\n",
       "      <td>36.8</td>\n",
       "    </tr>\n",
       "    <tr>\n",
       "      <th>40113</th>\n",
       "      <td>Albania</td>\n",
       "      <td>2018</td>\n",
       "      <td>europe</td>\n",
       "      <td>2930000</td>\n",
       "      <td>78.0</td>\n",
       "      <td>12400</td>\n",
       "      <td>29.0</td>\n",
       "    </tr>\n",
       "    <tr>\n",
       "      <th>40114</th>\n",
       "      <td>Algeria</td>\n",
       "      <td>2018</td>\n",
       "      <td>africa</td>\n",
       "      <td>42000000</td>\n",
       "      <td>77.9</td>\n",
       "      <td>13700</td>\n",
       "      <td>27.6</td>\n",
       "    </tr>\n",
       "    <tr>\n",
       "      <th>40115</th>\n",
       "      <td>Angola</td>\n",
       "      <td>2018</td>\n",
       "      <td>africa</td>\n",
       "      <td>30800000</td>\n",
       "      <td>65.2</td>\n",
       "      <td>5850</td>\n",
       "      <td>42.6</td>\n",
       "    </tr>\n",
       "    <tr>\n",
       "      <th>40116</th>\n",
       "      <td>Antigua and Barbuda</td>\n",
       "      <td>2018</td>\n",
       "      <td>americas</td>\n",
       "      <td>103000</td>\n",
       "      <td>77.6</td>\n",
       "      <td>21000</td>\n",
       "      <td>40.0</td>\n",
       "    </tr>\n",
       "    <tr>\n",
       "      <th>40117</th>\n",
       "      <td>Argentina</td>\n",
       "      <td>2018</td>\n",
       "      <td>americas</td>\n",
       "      <td>44700000</td>\n",
       "      <td>77.0</td>\n",
       "      <td>18900</td>\n",
       "      <td>42.4</td>\n",
       "    </tr>\n",
       "    <tr>\n",
       "      <th>40118</th>\n",
       "      <td>Armenia</td>\n",
       "      <td>2018</td>\n",
       "      <td>europe</td>\n",
       "      <td>2930000</td>\n",
       "      <td>76.0</td>\n",
       "      <td>8660</td>\n",
       "      <td>32.6</td>\n",
       "    </tr>\n",
       "    <tr>\n",
       "      <th>40119</th>\n",
       "      <td>Australia</td>\n",
       "      <td>2018</td>\n",
       "      <td>asia</td>\n",
       "      <td>24800000</td>\n",
       "      <td>82.9</td>\n",
       "      <td>45800</td>\n",
       "      <td>32.3</td>\n",
       "    </tr>\n",
       "    <tr>\n",
       "      <th>40120</th>\n",
       "      <td>Austria</td>\n",
       "      <td>2018</td>\n",
       "      <td>europe</td>\n",
       "      <td>8750000</td>\n",
       "      <td>81.8</td>\n",
       "      <td>44600</td>\n",
       "      <td>30.5</td>\n",
       "    </tr>\n",
       "    <tr>\n",
       "      <th>40121</th>\n",
       "      <td>Azerbaijan</td>\n",
       "      <td>2018</td>\n",
       "      <td>europe</td>\n",
       "      <td>9920000</td>\n",
       "      <td>72.3</td>\n",
       "      <td>16600</td>\n",
       "      <td>32.4</td>\n",
       "    </tr>\n",
       "  </tbody>\n",
       "</table>\n",
       "</div>"
      ],
      "text/plain": [
       "                   country  year continent  population  life_exp  gdp_per_cap  \\\n",
       "40112          Afghanistan  2018      asia    36400000      58.7         1870   \n",
       "40113              Albania  2018    europe     2930000      78.0        12400   \n",
       "40114              Algeria  2018    africa    42000000      77.9        13700   \n",
       "40115               Angola  2018    africa    30800000      65.2         5850   \n",
       "40116  Antigua and Barbuda  2018  americas      103000      77.6        21000   \n",
       "40117            Argentina  2018  americas    44700000      77.0        18900   \n",
       "40118              Armenia  2018    europe     2930000      76.0         8660   \n",
       "40119            Australia  2018      asia    24800000      82.9        45800   \n",
       "40120              Austria  2018    europe     8750000      81.8        44600   \n",
       "40121           Azerbaijan  2018    europe     9920000      72.3        16600   \n",
       "\n",
       "       gini  \n",
       "40112  36.8  \n",
       "40113  29.0  \n",
       "40114  27.6  \n",
       "40115  42.6  \n",
       "40116  40.0  \n",
       "40117  42.4  \n",
       "40118  32.6  \n",
       "40119  32.3  \n",
       "40120  30.5  \n",
       "40121  32.4  "
      ]
     },
     "execution_count": 22,
     "metadata": {},
     "output_type": "execute_result"
    }
   ],
   "source": [
    "gm = pd.read_csv('gapminder_data.txt', sep='\\t')\n",
    "gm18 = gm[gm['year'] == 2018]\n",
    "gm18.head(10)"
   ]
  },
  {
   "cell_type": "code",
   "execution_count": 23,
   "id": "89693419",
   "metadata": {},
   "outputs": [
    {
     "name": "stdout",
     "output_type": "stream",
     "text": [
      "Training Features Shape: (128, 3)\n",
      "Test Features Shape:     (56, 3)\n"
     ]
    }
   ],
   "source": [
    "X4 = gm18[['life_exp', 'gdp_per_cap', 'gini']].values\n",
    "y4 = gm18['continent'].values\n",
    "X_train_4, X_test_4, y_train_4, y_test_4 = train_test_split(X4,\n",
    "                                                            y4,\n",
    "                                                            test_size=0.3,\n",
    "                                                            random_state=1,\n",
    "                                                            stratify=y4)\n",
    "print(\"Training Features Shape:\", X_train_4.shape)\n",
    "print(\"Test Features Shape:    \", X_test_4.shape)\n"
   ]
  },
  {
   "cell_type": "code",
   "execution_count": 24,
   "id": "799d4c0a",
   "metadata": {
    "scrolled": true
   },
   "outputs": [
    {
     "name": "stdout",
     "output_type": "stream",
     "text": [
      "Intercept:    [ 0.00206206 -0.00474954  0.00333784 -0.00065036]\n",
      "Coefficients:\n",
      "[[-8.83756448e-02 -1.02856964e-04  2.01053456e-01]\n",
      " [-8.63154959e-02  3.30583699e-05  1.59921897e-01]\n",
      " [ 1.95506117e-02  2.94566725e-05 -2.37138157e-02]\n",
      " [ 1.55140529e-01  4.03419217e-05 -3.37261537e-01]]\n"
     ]
    }
   ],
   "source": [
    "gm_mod = LogisticRegression(solver='lbfgs',\n",
    "                            penalty='none',\n",
    "                            multi_class='multinomial',\n",
    "                            max_iter=666)\n",
    "gm_mod.fit(X_train_4, y_train_4)\n",
    "\n",
    "print(\"Intercept:   \", gm_mod.intercept_)\n",
    "print(\"Coefficients:\", gm_mod.coef_, sep='\\n')"
   ]
  },
  {
   "cell_type": "code",
   "execution_count": 25,
   "id": "ebacadc9",
   "metadata": {},
   "outputs": [
    {
     "name": "stdout",
     "output_type": "stream",
     "text": [
      "Training Accuracy: 0.625\n",
      "Testing Accuracy:  0.589\n"
     ]
    }
   ],
   "source": [
    "train_accuracy = gm_mod.score(X_train_4, y_train_4)\n",
    "test_accuracy = gm_mod.score(X_test_4, y_test_4)\n",
    "print(\"Training Accuracy:\", train_accuracy)\n",
    "print(\"Testing Accuracy: \", test_accuracy.round(3))"
   ]
  },
  {
   "cell_type": "code",
   "execution_count": 26,
   "id": "80d5f6a1",
   "metadata": {},
   "outputs": [
    {
     "name": "stdout",
     "output_type": "stream",
     "text": [
      "Observed Labels:\n",
      "['americas' 'asia' 'asia' 'asia' 'africa' 'europe' 'asia' 'europe']\n",
      "Predicted Labels:\n",
      "['asia' 'europe' 'africa' 'asia' 'europe' 'europe' 'africa' 'europe']\n"
     ]
    }
   ],
   "source": [
    "test_pred_4 = gm_mod.predict(X_test_4)\n",
    "print(\"Observed Labels:\", y_test_4[:8], sep='\\n')\n",
    "print(\"Predicted Labels:\", test_pred_4[:8], sep='\\n')"
   ]
  },
  {
   "cell_type": "code",
   "execution_count": 27,
   "id": "290e02fd",
   "metadata": {},
   "outputs": [
    {
     "data": {
      "text/html": [
       "<div>\n",
       "<style scoped>\n",
       "    .dataframe tbody tr th:only-of-type {\n",
       "        vertical-align: middle;\n",
       "    }\n",
       "\n",
       "    .dataframe tbody tr th {\n",
       "        vertical-align: top;\n",
       "    }\n",
       "\n",
       "    .dataframe thead th {\n",
       "        text-align: right;\n",
       "    }\n",
       "</style>\n",
       "<table border=\"1\" class=\"dataframe\">\n",
       "  <thead>\n",
       "    <tr style=\"text-align: right;\">\n",
       "      <th></th>\n",
       "      <th>africa</th>\n",
       "      <th>americas</th>\n",
       "      <th>asia</th>\n",
       "      <th>europe</th>\n",
       "    </tr>\n",
       "  </thead>\n",
       "  <tbody>\n",
       "    <tr>\n",
       "      <th>0</th>\n",
       "      <td>0.038</td>\n",
       "      <td>0.026</td>\n",
       "      <td>0.288</td>\n",
       "      <td>0.649</td>\n",
       "    </tr>\n",
       "    <tr>\n",
       "      <th>1</th>\n",
       "      <td>0.433</td>\n",
       "      <td>0.191</td>\n",
       "      <td>0.343</td>\n",
       "      <td>0.034</td>\n",
       "    </tr>\n",
       "    <tr>\n",
       "      <th>2</th>\n",
       "      <td>0.726</td>\n",
       "      <td>0.212</td>\n",
       "      <td>0.061</td>\n",
       "      <td>0.000</td>\n",
       "    </tr>\n",
       "    <tr>\n",
       "      <th>3</th>\n",
       "      <td>0.005</td>\n",
       "      <td>0.025</td>\n",
       "      <td>0.265</td>\n",
       "      <td>0.705</td>\n",
       "    </tr>\n",
       "    <tr>\n",
       "      <th>4</th>\n",
       "      <td>0.092</td>\n",
       "      <td>0.313</td>\n",
       "      <td>0.533</td>\n",
       "      <td>0.061</td>\n",
       "    </tr>\n",
       "    <tr>\n",
       "      <th>5</th>\n",
       "      <td>0.259</td>\n",
       "      <td>0.582</td>\n",
       "      <td>0.158</td>\n",
       "      <td>0.001</td>\n",
       "    </tr>\n",
       "  </tbody>\n",
       "</table>\n",
       "</div>"
      ],
      "text/plain": [
       "   africa  americas   asia  europe\n",
       "0   0.038     0.026  0.288   0.649\n",
       "1   0.433     0.191  0.343   0.034\n",
       "2   0.726     0.212  0.061   0.000\n",
       "3   0.005     0.025  0.265   0.705\n",
       "4   0.092     0.313  0.533   0.061\n",
       "5   0.259     0.582  0.158   0.001"
      ]
     },
     "execution_count": 27,
     "metadata": {},
     "output_type": "execute_result"
    }
   ],
   "source": [
    "gm_new = pd.DataFrame({'life_exp': [75, 75, 75, 75, 75, 75],\n",
    "                       'gdp_per_cap': [5000, 5000, 5000, 20000, 20000, 20000],\n",
    "                       'gini': [30, 40, 50, 30, 40, 50]}).values\n",
    "gm_proba = gm_mod.predict_proba(gm_new)\n",
    "gm_proba_df = pd.DataFrame(gm_proba, columns=['africa',\n",
    "                                              'americas',\n",
    "                                              'asia',\n",
    "                                              'europe'])\n",
    "gm_proba_df.round(3)"
   ]
  },
  {
   "cell_type": "markdown",
   "id": "13f6a61b",
   "metadata": {},
   "source": [
    "- Country 0 is most likely in Europe.\n",
    "- Country 1 is most likely in Africa.\n",
    "- Country 2 is most likely in Africa.\n",
    "- Country 3 is most likely in Europe.\n",
    "- Country 4 is most likely in Asia.\n",
    "- Country 5 is most likely in Americas."
   ]
  },
  {
   "cell_type": "code",
   "execution_count": null,
   "id": "8457b282",
   "metadata": {},
   "outputs": [],
   "source": []
  }
 ],
 "metadata": {
  "kernelspec": {
   "display_name": "Python 3 (ipykernel)",
   "language": "python",
   "name": "python3"
  },
  "language_info": {
   "codemirror_mode": {
    "name": "ipython",
    "version": 3
   },
   "file_extension": ".py",
   "mimetype": "text/x-python",
   "name": "python",
   "nbconvert_exporter": "python",
   "pygments_lexer": "ipython3",
   "version": "3.9.13"
  }
 },
 "nbformat": 4,
 "nbformat_minor": 5
}
