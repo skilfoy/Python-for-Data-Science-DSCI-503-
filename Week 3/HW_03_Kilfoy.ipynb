{
 "cells": [
  {
   "cell_type": "markdown",
   "id": "5e1b5c09",
   "metadata": {},
   "source": [
    "# DSCI 503 - Homework 03"
   ]
  },
  {
   "cell_type": "markdown",
   "id": "0dbfdb0e",
   "metadata": {},
   "source": [
    "## Problem 1: Dot Product"
   ]
  },
  {
   "cell_type": "code",
   "execution_count": 1,
   "id": "1e3b10c6",
   "metadata": {},
   "outputs": [],
   "source": [
    "def dot_product(x, y):\n",
    "    dot_product = 0\n",
    "    for i in range(len(x)):\n",
    "        dot_product += x[i] * y[i]\n",
    "    return dot_product"
   ]
  },
  {
   "cell_type": "code",
   "execution_count": 2,
   "id": "51603e80",
   "metadata": {},
   "outputs": [
    {
     "name": "stdout",
     "output_type": "stream",
     "text": [
      "The dot product of v1 and v2 is 16220\n"
     ]
    }
   ],
   "source": [
    "v1 = [38, 9, 40, 34, 20, 16, 42, 36, 12, 1, 23, 46, 31, 19, 30, 33, 16, 43, 24, 41]\n",
    "v2 = [43, 13, 35, 14, 26, 3, 36, 15, 42, 44, 45, 20, 17, 6, 47, 40, 38, 41, 31, 24]\n",
    "\n",
    "print(f\"The dot product of v1 and v2 is {dot_product(v1,v2)}\")"
   ]
  },
  {
   "cell_type": "markdown",
   "id": "afbd0d45",
   "metadata": {},
   "source": [
    "## Problem 2: Amortization"
   ]
  },
  {
   "cell_type": "code",
   "execution_count": 3,
   "id": "67a816a4",
   "metadata": {},
   "outputs": [],
   "source": [
    "def count_payments(amount, rate, pmt):\n",
    "    count = 0\n",
    "    while amount > 0:\n",
    "        amount = round(amount * (1 + rate) - pmt, 2)\n",
    "        count += 1\n",
    "    return count"
   ]
  },
  {
   "cell_type": "code",
   "execution_count": 4,
   "id": "e9c8055a",
   "metadata": {},
   "outputs": [
    {
     "name": "stdout",
     "output_type": "stream",
     "text": [
      "351 monthly payments of $850 would be required.\n",
      "312 monthly payments of $900 would be required.\n",
      "281 monthly payments of $950 would be required.\n",
      "256 monthly payments of $1000 would be required.\n",
      "236 monthly payments of $1050 would be required.\n"
     ]
    }
   ],
   "source": [
    "amount = 160000\n",
    "rate = 0.004\n",
    "start_pmt = 850\n",
    "end_pmt = 1050\n",
    "step_size = 50\n",
    "\n",
    "for pmt in range(start_pmt, end_pmt + step_size, step_size):\n",
    "    payments = count_payments(amount, rate, pmt)\n",
    "    print(f\"{payments} monthly payments of ${pmt} would be required.\")"
   ]
  },
  {
   "cell_type": "code",
   "execution_count": 5,
   "id": "0bdc8cdd",
   "metadata": {},
   "outputs": [
    {
     "name": "stdout",
     "output_type": "stream",
     "text": [
      "308 monthly payments of $850 would be required.\n",
      "279 monthly payments of $900 would be required.\n",
      "255 monthly payments of $950 would be required.\n",
      "235 monthly payments of $1000 would be required.\n",
      "219 monthly payments of $1050 would be required.\n"
     ]
    }
   ],
   "source": [
    "amount = 160000\n",
    "rate = 0.0035\n",
    "start_pmt = 850\n",
    "end_pmt = 1050\n",
    "step_size = 50\n",
    "\n",
    "for pmt in range(start_pmt, end_pmt + step_size, step_size):\n",
    "    payments = count_payments(amount, rate, pmt)\n",
    "    print(f\"{payments} monthly payments of ${pmt} would be required.\")"
   ]
  },
  {
   "cell_type": "markdown",
   "id": "62df7e8e",
   "metadata": {},
   "source": [
    "## Problem 3: Minimum"
   ]
  },
  {
   "cell_type": "code",
   "execution_count": 6,
   "id": "8db44221",
   "metadata": {},
   "outputs": [],
   "source": [
    "def minimum(x):\n",
    "    min_value = x[0]\n",
    "    for i in range(1, len(x)):\n",
    "        if x[i] < min_value:\n",
    "            min_value = x[i]\n",
    "    return min_value"
   ]
  },
  {
   "cell_type": "code",
   "execution_count": 7,
   "id": "d5ca1dde",
   "metadata": {},
   "outputs": [
    {
     "name": "stdout",
     "output_type": "stream",
     "text": [
      "The minimum of list1 is: 4.1\n",
      "The minimum of list2 is: 3.4\n",
      "The minimum of list3 is: Chicago\n"
     ]
    }
   ],
   "source": [
    "list1 = [9.8, 7.4, 5.6, 4.8, 4.8, 5.3, 4.1, 9.6, 5.4]\n",
    "list2 = [3.4, 7.6, 8.7, 7.5, 9.8, 7.5, 6.7, 8.7, 8.4]\n",
    "list3 = ['St. Louis', 'Kansas City', 'Chicago', 'Little Rock', 'Omaha']\n",
    "\n",
    "print(\"The minimum of list1 is:\", minimum(list1))\n",
    "print(\"The minimum of list2 is:\", minimum(list2))\n",
    "print(\"The minimum of list3 is:\", minimum(list3))"
   ]
  },
  {
   "cell_type": "markdown",
   "id": "825cc8aa",
   "metadata": {},
   "source": [
    "## Problem 4: Argmin"
   ]
  },
  {
   "cell_type": "code",
   "execution_count": 8,
   "id": "19f8baf0",
   "metadata": {},
   "outputs": [],
   "source": [
    "def argmin(x):\n",
    "    min_val = x[0]\n",
    "    min_index = 0\n",
    "    for i in range(1, len(x)):\n",
    "        if x[i] < min_val:\n",
    "            min_val = x[i]\n",
    "            min_index = i\n",
    "    return min_index"
   ]
  },
  {
   "cell_type": "code",
   "execution_count": 9,
   "id": "971d2064",
   "metadata": {},
   "outputs": [
    {
     "name": "stdout",
     "output_type": "stream",
     "text": [
      "The value at index 6 is the minimum value in list1.\n",
      "The value at index 0 is the minimum value in list2.\n",
      "The value at index 2 is the minimum value in list3.\n"
     ]
    }
   ],
   "source": [
    "print(f\"The value at index {argmin(list1)} is the minimum value in list1.\")\n",
    "print(f\"The value at index {argmin(list2)} is the minimum value in list2.\")\n",
    "print(f\"The value at index {argmin(list3)} is the minimum value in list3.\")"
   ]
  },
  {
   "cell_type": "markdown",
   "id": "0604157e",
   "metadata": {},
   "source": [
    "## Problem 5: Find Smallest Elements"
   ]
  },
  {
   "cell_type": "code",
   "execution_count": 10,
   "id": "4473b523",
   "metadata": {},
   "outputs": [],
   "source": [
    "def find_smallest(x, n=None):\n",
    "    x = sorted(x)\n",
    "    if n is None:\n",
    "        return min(x)\n",
    "    elif n > len(x):\n",
    "        return x\n",
    "    else:\n",
    "        return x[:n]"
   ]
  },
  {
   "cell_type": "code",
   "execution_count": 11,
   "id": "fe9ac935",
   "metadata": {},
   "outputs": [
    {
     "name": "stdout",
     "output_type": "stream",
     "text": [
      "17\n",
      "[17]\n",
      "[17, 28]\n",
      "[17, 28, 28, 39, 53]\n",
      "[17, 28, 28, 39, 53, 54, 64, 74]\n"
     ]
    }
   ],
   "source": [
    "my_list = [39, 74, 28, 64, 17, 28, 54, 53]\n",
    "\n",
    "print(find_smallest(my_list))\n",
    "print(find_smallest(my_list, 1))\n",
    "print(find_smallest(my_list, 2))\n",
    "print(find_smallest(my_list, 5))\n",
    "print(find_smallest(my_list, 12))"
   ]
  },
  {
   "cell_type": "code",
   "execution_count": 12,
   "id": "0b2c6d03",
   "metadata": {},
   "outputs": [
    {
     "name": "stdout",
     "output_type": "stream",
     "text": [
      "[39, 74, 28, 64, 17, 28, 54, 53]\n"
     ]
    }
   ],
   "source": [
    "print(my_list)"
   ]
  },
  {
   "cell_type": "markdown",
   "id": "4eab00ae",
   "metadata": {},
   "source": [
    "## Problem 6:  Find Unique Elements"
   ]
  },
  {
   "cell_type": "code",
   "execution_count": 13,
   "id": "ebd2b669",
   "metadata": {},
   "outputs": [],
   "source": [
    "def unique(x):\n",
    "    unique_list = []\n",
    "    for i in x:\n",
    "        if i not in unique_list:\n",
    "            unique_list.append(i)\n",
    "    unique_list.sort()\n",
    "    return unique_list"
   ]
  },
  {
   "cell_type": "code",
   "execution_count": 14,
   "id": "9d62114b",
   "metadata": {},
   "outputs": [
    {
     "name": "stdout",
     "output_type": "stream",
     "text": [
      "[12, 14, 16, 19, 23]\n",
      "['bat', 'cat', 'dog', 'frog']\n"
     ]
    }
   ],
   "source": [
    "int_list = [23, 16, 23, 12, 14, 23, 12, 19, 19]\n",
    "str_list = ['cat', 'dog', 'dog', 'cat', 'bat', 'frog', 'dog', 'frog']\n",
    "\n",
    "print(unique(int_list))\n",
    "print(unique(str_list))"
   ]
  },
  {
   "cell_type": "markdown",
   "id": "de810e84",
   "metadata": {},
   "source": [
    "## Problem 7: Frequency Distribution"
   ]
  },
  {
   "cell_type": "code",
   "execution_count": 15,
   "id": "6432b7fe",
   "metadata": {},
   "outputs": [],
   "source": [
    "def freq_dist(x):\n",
    "    unique_vals = unique(x)\n",
    "    count_vals = []\n",
    "    for value in unique_vals:\n",
    "        count = 0\n",
    "        for element in x:\n",
    "            if value == element:\n",
    "                count += 1\n",
    "        count_vals.append(count)\n",
    "    return unique_vals, count_vals"
   ]
  },
  {
   "cell_type": "code",
   "execution_count": 16,
   "id": "c9a2adeb",
   "metadata": {},
   "outputs": [
    {
     "name": "stdout",
     "output_type": "stream",
     "text": [
      "Unique Values: ['A', 'B', 'C', 'D', 'F']\n",
      "Frequencies: [6, 8, 5, 5, 3]\n"
     ]
    }
   ],
   "source": [
    "grades = ['A', 'D', 'A', 'C', 'B', 'F', 'A', 'D', 'C', 'B', 'F', 'A', 'C', 'B', 'A', 'B', 'B', 'C', 'B', 'F', 'D', 'D', 'A', 'C', 'B', 'B', 'D']\n",
    "\n",
    "unique_vals, count_vals = freq_dist(grades)\n",
    "\n",
    "print(\"Unique Values:\", unique_vals)\n",
    "print(\"Frequencies:\", count_vals)\n"
   ]
  },
  {
   "cell_type": "markdown",
   "id": "55b52099",
   "metadata": {},
   "source": [
    "## Problem 8: Weighted Means"
   ]
  },
  {
   "cell_type": "code",
   "execution_count": 17,
   "id": "4c403e8b",
   "metadata": {},
   "outputs": [],
   "source": [
    "def mean(x, w=None):\n",
    "    n = len(x)\n",
    "    if w == None:\n",
    "        return sum(x) / n\n",
    "    else:\n",
    "        weighted_sum = 0\n",
    "        for i in range(n):\n",
    "            weighted_sum += x[i] * w[i]\n",
    "        return weighted_sum / sum(w)"
   ]
  },
  {
   "cell_type": "code",
   "execution_count": 18,
   "id": "5b45797b",
   "metadata": {},
   "outputs": [
    {
     "name": "stdout",
     "output_type": "stream",
     "text": [
      "Standard Mean: 4.9\n",
      "Weighted Mean: 4.15\n"
     ]
    }
   ],
   "source": [
    "values = [4, 7, 3, 5, 2, 6, 8, 2, 4, 8]\n",
    "weights = [2, 1, 3, 1, 2, 3, 1, 4, 2, 1]\n",
    "\n",
    "print(\"Standard Mean:\", mean(values))\n",
    "print(\"Weighted Mean:\", mean(values, weights))"
   ]
  }
 ],
 "metadata": {
  "kernelspec": {
   "display_name": "Python 3 (ipykernel)",
   "language": "python",
   "name": "python3"
  },
  "language_info": {
   "codemirror_mode": {
    "name": "ipython",
    "version": 3
   },
   "file_extension": ".py",
   "mimetype": "text/x-python",
   "name": "python",
   "nbconvert_exporter": "python",
   "pygments_lexer": "ipython3",
   "version": "3.9.13"
  }
 },
 "nbformat": 4,
 "nbformat_minor": 5
}
